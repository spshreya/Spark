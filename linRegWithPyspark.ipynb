{
  "nbformat": 4,
  "nbformat_minor": 0,
  "metadata": {
    "colab": {
      "name": "linRegWithPyspark.ipynb",
      "provenance": [],
      "authorship_tag": "ABX9TyPNjQhCJMxZ8i9WscoQ6JKg",
      "include_colab_link": true
    },
    "kernelspec": {
      "name": "python3",
      "display_name": "Python 3"
    },
    "language_info": {
      "name": "python"
    }
  },
  "cells": [
    {
      "cell_type": "markdown",
      "metadata": {
        "id": "view-in-github",
        "colab_type": "text"
      },
      "source": [
        "<a href=\"https://colab.research.google.com/github/spshreya/Spark/blob/main/linRegWithPyspark.ipynb\" target=\"_parent\"><img src=\"https://colab.research.google.com/assets/colab-badge.svg\" alt=\"Open In Colab\"/></a>"
      ]
    },
    {
      "cell_type": "code",
      "execution_count": 2,
      "metadata": {
        "colab": {
          "base_uri": "https://localhost:8080/"
        },
        "id": "Q8pYnuqtxwez",
        "outputId": "d5f8a938-c802-4cf0-b804-e4f266014283"
      },
      "outputs": [
        {
          "output_type": "stream",
          "name": "stdout",
          "text": [
            "Collecting pyspark\n",
            "  Downloading pyspark-3.2.1.tar.gz (281.4 MB)\n",
            "\u001b[K     |████████████████████████████████| 281.4 MB 27 kB/s \n",
            "\u001b[?25hCollecting py4j\n",
            "  Downloading py4j-0.10.9.5-py2.py3-none-any.whl (199 kB)\n",
            "\u001b[K     |████████████████████████████████| 199 kB 49.5 MB/s \n",
            "\u001b[?25h  Downloading py4j-0.10.9.3-py2.py3-none-any.whl (198 kB)\n",
            "\u001b[K     |████████████████████████████████| 198 kB 37.0 MB/s \n",
            "\u001b[?25hBuilding wheels for collected packages: pyspark\n",
            "  Building wheel for pyspark (setup.py) ... \u001b[?25l\u001b[?25hdone\n",
            "  Created wheel for pyspark: filename=pyspark-3.2.1-py2.py3-none-any.whl size=281853642 sha256=784fc8e57315c45a912051e5190eceece959fd5635ca650e741c2e513d277624\n",
            "  Stored in directory: /root/.cache/pip/wheels/9f/f5/07/7cd8017084dce4e93e84e92efd1e1d5334db05f2e83bcef74f\n",
            "Successfully built pyspark\n",
            "Installing collected packages: py4j, pyspark\n",
            "Successfully installed py4j-0.10.9.3 pyspark-3.2.1\n"
          ]
        }
      ],
      "source": [
        "!pip install pyspark py4j"
      ]
    },
    {
      "cell_type": "code",
      "source": [
        "from pyspark.sql import SparkSession"
      ],
      "metadata": {
        "id": "okDYaGk-yWjn"
      },
      "execution_count": 3,
      "outputs": []
    },
    {
      "cell_type": "code",
      "source": [
        "spark = SparkSession.builder.appName('demo1').getOrCreate()"
      ],
      "metadata": {
        "id": "7-YF6-lIye5-"
      },
      "execution_count": 4,
      "outputs": []
    },
    {
      "cell_type": "code",
      "source": [
        "spark"
      ],
      "metadata": {
        "colab": {
          "base_uri": "https://localhost:8080/",
          "height": 219
        },
        "id": "cRFR6ZUVzixj",
        "outputId": "927b1a2f-74fc-4dd6-edac-8c1c8900a5f8"
      },
      "execution_count": 5,
      "outputs": [
        {
          "output_type": "execute_result",
          "data": {
            "text/plain": [
              "<pyspark.sql.session.SparkSession at 0x7f0b87e4dcd0>"
            ],
            "text/html": [
              "\n",
              "            <div>\n",
              "                <p><b>SparkSession - in-memory</b></p>\n",
              "                \n",
              "        <div>\n",
              "            <p><b>SparkContext</b></p>\n",
              "\n",
              "            <p><a href=\"http://01f5d09b819a:4040\">Spark UI</a></p>\n",
              "\n",
              "            <dl>\n",
              "              <dt>Version</dt>\n",
              "                <dd><code>v3.2.1</code></dd>\n",
              "              <dt>Master</dt>\n",
              "                <dd><code>local[*]</code></dd>\n",
              "              <dt>AppName</dt>\n",
              "                <dd><code>demo1</code></dd>\n",
              "            </dl>\n",
              "        </div>\n",
              "        \n",
              "            </div>\n",
              "        "
            ]
          },
          "metadata": {},
          "execution_count": 5
        }
      ]
    },
    {
      "cell_type": "code",
      "source": [
        "from google.colab import files\n",
        "uploaded = files.upload()"
      ],
      "metadata": {
        "colab": {
          "resources": {
            "http://localhost:8080/nbextensions/google.colab/files.js": {
              "data": "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",
              "ok": true,
              "headers": [
                [
                  "content-type",
                  "application/javascript"
                ]
              ],
              "status": 200,
              "status_text": ""
            }
          },
          "base_uri": "https://localhost:8080/",
          "height": 73
        },
        "id": "5NSPfxg4zmE9",
        "outputId": "48892378-8682-4996-eed2-ab57ec7e4818"
      },
      "execution_count": 6,
      "outputs": [
        {
          "output_type": "display_data",
          "data": {
            "text/plain": [
              "<IPython.core.display.HTML object>"
            ],
            "text/html": [
              "\n",
              "     <input type=\"file\" id=\"files-d412bbe2-1e6e-4f9e-bbff-c57bc7439554\" name=\"files[]\" multiple disabled\n",
              "        style=\"border:none\" />\n",
              "     <output id=\"result-d412bbe2-1e6e-4f9e-bbff-c57bc7439554\">\n",
              "      Upload widget is only available when the cell has been executed in the\n",
              "      current browser session. Please rerun this cell to enable.\n",
              "      </output>\n",
              "      <script src=\"/nbextensions/google.colab/files.js\"></script> "
            ]
          },
          "metadata": {}
        },
        {
          "output_type": "stream",
          "name": "stdout",
          "text": [
            "Saving fifa_data.csv to fifa_data.csv\n"
          ]
        }
      ]
    },
    {
      "cell_type": "code",
      "source": [
        "df = spark.read.csv('fifa_data.csv', header=True, inferSchema=True)"
      ],
      "metadata": {
        "id": "nuQ8hSZcz-5n"
      },
      "execution_count": 7,
      "outputs": []
    },
    {
      "cell_type": "code",
      "source": [
        "df.head(3)"
      ],
      "metadata": {
        "colab": {
          "base_uri": "https://localhost:8080/"
        },
        "id": "m25KFxne12N6",
        "outputId": "7e70fb4d-4ae5-400a-e3ed-ccbbdf46951c"
      },
      "execution_count": 8,
      "outputs": [
        {
          "output_type": "execute_result",
          "data": {
            "text/plain": [
              "[Row(_c0=0, ID=158023, Name='L. Messi', Age=31, Photo='https://cdn.sofifa.org/players/4/19/158023.png', Nationality='Argentina', Flag='https://cdn.sofifa.org/flags/52.png', Overall=94, Potential=94, Club='FC Barcelona', Club Logo='https://cdn.sofifa.org/teams/2/light/241.png', Value='€110.5M', Wage='€565K', Special=2202, Preferred Foot='Left', International Reputation=5, Weak Foot=4, Skill Moves=4, Work Rate='Medium/ Medium', Body Type='Messi', Real Face='Yes', Position='RF', Jersey Number=10, Joined='Jul 1, 2004', Loaned From=None, Contract Valid Until='2021', Height=\"5'7\", Weight='159lbs', LS='88+2', ST='88+2', RS='88+2', LW='92+2', LF='93+2', CF='93+2', RF='93+2', RW='92+2', LAM='93+2', CAM='93+2', RAM='93+2', LM='91+2', LCM='84+2', CM='84+2', RCM='84+2', RM='91+2', LWB='64+2', LDM='61+2', CDM='61+2', RDM='61+2', RWB='64+2', LB='59+2', LCB='47+2', CB='47+2', RCB='47+2', RB='59+2', Crossing=84, Finishing=95, HeadingAccuracy=70, ShortPassing=90, Volleys=86, Dribbling=97, Curve=93, FKAccuracy=94, LongPassing=87, BallControl=96, Acceleration=91, SprintSpeed=86, Agility=91, Reactions=95, Balance=95, ShotPower=85, Jumping=68, Stamina=72, Strength=59, LongShots=94, Aggression=48, Interceptions=22, Positioning=94, Vision=94, Penalties=75, Composure=96, Marking=33, StandingTackle=28, SlidingTackle=26, GKDiving=6, GKHandling=11, GKKicking=15, GKPositioning=14, GKReflexes=8, Release Clause='€226.5M'),\n",
              " Row(_c0=1, ID=20801, Name='Cristiano Ronaldo', Age=33, Photo='https://cdn.sofifa.org/players/4/19/20801.png', Nationality='Portugal', Flag='https://cdn.sofifa.org/flags/38.png', Overall=94, Potential=94, Club='Juventus', Club Logo='https://cdn.sofifa.org/teams/2/light/45.png', Value='€77M', Wage='€405K', Special=2228, Preferred Foot='Right', International Reputation=5, Weak Foot=4, Skill Moves=5, Work Rate='High/ Low', Body Type='C. Ronaldo', Real Face='Yes', Position='ST', Jersey Number=7, Joined='Jul 10, 2018', Loaned From=None, Contract Valid Until='2022', Height=\"6'2\", Weight='183lbs', LS='91+3', ST='91+3', RS='91+3', LW='89+3', LF='90+3', CF='90+3', RF='90+3', RW='89+3', LAM='88+3', CAM='88+3', RAM='88+3', LM='88+3', LCM='81+3', CM='81+3', RCM='81+3', RM='88+3', LWB='65+3', LDM='61+3', CDM='61+3', RDM='61+3', RWB='65+3', LB='61+3', LCB='53+3', CB='53+3', RCB='53+3', RB='61+3', Crossing=84, Finishing=94, HeadingAccuracy=89, ShortPassing=81, Volleys=87, Dribbling=88, Curve=81, FKAccuracy=76, LongPassing=77, BallControl=94, Acceleration=89, SprintSpeed=91, Agility=87, Reactions=96, Balance=70, ShotPower=95, Jumping=95, Stamina=88, Strength=79, LongShots=93, Aggression=63, Interceptions=29, Positioning=95, Vision=82, Penalties=85, Composure=95, Marking=28, StandingTackle=31, SlidingTackle=23, GKDiving=7, GKHandling=11, GKKicking=15, GKPositioning=14, GKReflexes=11, Release Clause='€127.1M'),\n",
              " Row(_c0=2, ID=190871, Name='Neymar Jr', Age=26, Photo='https://cdn.sofifa.org/players/4/19/190871.png', Nationality='Brazil', Flag='https://cdn.sofifa.org/flags/54.png', Overall=92, Potential=93, Club='Paris Saint-Germain', Club Logo='https://cdn.sofifa.org/teams/2/light/73.png', Value='€118.5M', Wage='€290K', Special=2143, Preferred Foot='Right', International Reputation=5, Weak Foot=5, Skill Moves=5, Work Rate='High/ Medium', Body Type='Neymar', Real Face='Yes', Position='LW', Jersey Number=10, Joined='Aug 3, 2017', Loaned From=None, Contract Valid Until='2022', Height=\"5'9\", Weight='150lbs', LS='84+3', ST='84+3', RS='84+3', LW='89+3', LF='89+3', CF='89+3', RF='89+3', RW='89+3', LAM='89+3', CAM='89+3', RAM='89+3', LM='88+3', LCM='81+3', CM='81+3', RCM='81+3', RM='88+3', LWB='65+3', LDM='60+3', CDM='60+3', RDM='60+3', RWB='65+3', LB='60+3', LCB='47+3', CB='47+3', RCB='47+3', RB='60+3', Crossing=79, Finishing=87, HeadingAccuracy=62, ShortPassing=84, Volleys=84, Dribbling=96, Curve=88, FKAccuracy=87, LongPassing=78, BallControl=95, Acceleration=94, SprintSpeed=90, Agility=96, Reactions=94, Balance=84, ShotPower=80, Jumping=61, Stamina=81, Strength=49, LongShots=82, Aggression=56, Interceptions=36, Positioning=89, Vision=87, Penalties=81, Composure=94, Marking=27, StandingTackle=24, SlidingTackle=33, GKDiving=9, GKHandling=9, GKKicking=15, GKPositioning=15, GKReflexes=11, Release Clause='€228.1M')]"
            ]
          },
          "metadata": {},
          "execution_count": 8
        }
      ]
    },
    {
      "cell_type": "code",
      "source": [
        "df.describe()"
      ],
      "metadata": {
        "colab": {
          "base_uri": "https://localhost:8080/"
        },
        "id": "E8oGhPoG3ldo",
        "outputId": "8744bf9c-ce20-495b-f516-ff8a96b8cf43"
      },
      "execution_count": 9,
      "outputs": [
        {
          "output_type": "execute_result",
          "data": {
            "text/plain": [
              "DataFrame[summary: string, _c0: string, ID: string, Name: string, Age: string, Photo: string, Nationality: string, Flag: string, Overall: string, Potential: string, Club: string, Club Logo: string, Value: string, Wage: string, Special: string, Preferred Foot: string, International Reputation: string, Weak Foot: string, Skill Moves: string, Work Rate: string, Body Type: string, Real Face: string, Position: string, Jersey Number: string, Joined: string, Loaned From: string, Contract Valid Until: string, Height: string, Weight: string, LS: string, ST: string, RS: string, LW: string, LF: string, CF: string, RF: string, RW: string, LAM: string, CAM: string, RAM: string, LM: string, LCM: string, CM: string, RCM: string, RM: string, LWB: string, LDM: string, CDM: string, RDM: string, RWB: string, LB: string, LCB: string, CB: string, RCB: string, RB: string, Crossing: string, Finishing: string, HeadingAccuracy: string, ShortPassing: string, Volleys: string, Dribbling: string, Curve: string, FKAccuracy: string, LongPassing: string, BallControl: string, Acceleration: string, SprintSpeed: string, Agility: string, Reactions: string, Balance: string, ShotPower: string, Jumping: string, Stamina: string, Strength: string, LongShots: string, Aggression: string, Interceptions: string, Positioning: string, Vision: string, Penalties: string, Composure: string, Marking: string, StandingTackle: string, SlidingTackle: string, GKDiving: string, GKHandling: string, GKKicking: string, GKPositioning: string, GKReflexes: string, Release Clause: string]"
            ]
          },
          "metadata": {},
          "execution_count": 9
        }
      ]
    },
    {
      "cell_type": "code",
      "source": [
        "df.dtypes"
      ],
      "metadata": {
        "colab": {
          "base_uri": "https://localhost:8080/"
        },
        "id": "41BsJWWf30vU",
        "outputId": "81556bbb-5bc4-47f9-b1f4-82157dd4a3bb"
      },
      "execution_count": 10,
      "outputs": [
        {
          "output_type": "execute_result",
          "data": {
            "text/plain": [
              "[('_c0', 'int'),\n",
              " ('ID', 'int'),\n",
              " ('Name', 'string'),\n",
              " ('Age', 'int'),\n",
              " ('Photo', 'string'),\n",
              " ('Nationality', 'string'),\n",
              " ('Flag', 'string'),\n",
              " ('Overall', 'int'),\n",
              " ('Potential', 'int'),\n",
              " ('Club', 'string'),\n",
              " ('Club Logo', 'string'),\n",
              " ('Value', 'string'),\n",
              " ('Wage', 'string'),\n",
              " ('Special', 'int'),\n",
              " ('Preferred Foot', 'string'),\n",
              " ('International Reputation', 'int'),\n",
              " ('Weak Foot', 'int'),\n",
              " ('Skill Moves', 'int'),\n",
              " ('Work Rate', 'string'),\n",
              " ('Body Type', 'string'),\n",
              " ('Real Face', 'string'),\n",
              " ('Position', 'string'),\n",
              " ('Jersey Number', 'int'),\n",
              " ('Joined', 'string'),\n",
              " ('Loaned From', 'string'),\n",
              " ('Contract Valid Until', 'string'),\n",
              " ('Height', 'string'),\n",
              " ('Weight', 'string'),\n",
              " ('LS', 'string'),\n",
              " ('ST', 'string'),\n",
              " ('RS', 'string'),\n",
              " ('LW', 'string'),\n",
              " ('LF', 'string'),\n",
              " ('CF', 'string'),\n",
              " ('RF', 'string'),\n",
              " ('RW', 'string'),\n",
              " ('LAM', 'string'),\n",
              " ('CAM', 'string'),\n",
              " ('RAM', 'string'),\n",
              " ('LM', 'string'),\n",
              " ('LCM', 'string'),\n",
              " ('CM', 'string'),\n",
              " ('RCM', 'string'),\n",
              " ('RM', 'string'),\n",
              " ('LWB', 'string'),\n",
              " ('LDM', 'string'),\n",
              " ('CDM', 'string'),\n",
              " ('RDM', 'string'),\n",
              " ('RWB', 'string'),\n",
              " ('LB', 'string'),\n",
              " ('LCB', 'string'),\n",
              " ('CB', 'string'),\n",
              " ('RCB', 'string'),\n",
              " ('RB', 'string'),\n",
              " ('Crossing', 'int'),\n",
              " ('Finishing', 'int'),\n",
              " ('HeadingAccuracy', 'int'),\n",
              " ('ShortPassing', 'int'),\n",
              " ('Volleys', 'int'),\n",
              " ('Dribbling', 'int'),\n",
              " ('Curve', 'int'),\n",
              " ('FKAccuracy', 'int'),\n",
              " ('LongPassing', 'int'),\n",
              " ('BallControl', 'int'),\n",
              " ('Acceleration', 'int'),\n",
              " ('SprintSpeed', 'int'),\n",
              " ('Agility', 'int'),\n",
              " ('Reactions', 'int'),\n",
              " ('Balance', 'int'),\n",
              " ('ShotPower', 'int'),\n",
              " ('Jumping', 'int'),\n",
              " ('Stamina', 'int'),\n",
              " ('Strength', 'int'),\n",
              " ('LongShots', 'int'),\n",
              " ('Aggression', 'int'),\n",
              " ('Interceptions', 'int'),\n",
              " ('Positioning', 'int'),\n",
              " ('Vision', 'int'),\n",
              " ('Penalties', 'int'),\n",
              " ('Composure', 'int'),\n",
              " ('Marking', 'int'),\n",
              " ('StandingTackle', 'int'),\n",
              " ('SlidingTackle', 'int'),\n",
              " ('GKDiving', 'int'),\n",
              " ('GKHandling', 'int'),\n",
              " ('GKKicking', 'int'),\n",
              " ('GKPositioning', 'int'),\n",
              " ('GKReflexes', 'int'),\n",
              " ('Release Clause', 'string')]"
            ]
          },
          "metadata": {},
          "execution_count": 10
        }
      ]
    },
    {
      "cell_type": "code",
      "source": [
        "df.describe().show()"
      ],
      "metadata": {
        "colab": {
          "base_uri": "https://localhost:8080/"
        },
        "id": "I8eN5ryV5MiX",
        "outputId": "2cc8cc69-df2b-47ef-dadb-44ba7bfc5bfd"
      },
      "execution_count": 11,
      "outputs": [
        {
          "output_type": "stream",
          "name": "stdout",
          "text": [
            "+-------+-----------------+------------------+-------------+------------------+--------------------+-----------+--------------------+-----------------+-----------------+--------------------+--------------------+-----+-----+------------------+--------------+------------------------+------------------+------------------+--------------+---------+---------+--------+------------------+-----------+-------------+--------------------+------+------+-----+-----+-----+-----+-----+-----+-----+-----+-----+-----+-----+-----+-----+-----+-----+-----+-----+-----+-----+-----+-----+-----+-----+-----+-----+-----+------------------+-----------------+------------------+------------------+-----------------+------------------+------------------+------------------+------------------+------------------+------------------+------------------+------------------+-----------------+------------------+------------------+------------------+------------------+------------------+------------------+-----------------+------------------+-----------------+------------------+-----------------+------------------+------------------+------------------+------------------+------------------+------------------+------------------+------------------+------------------+--------------+\n",
            "|summary|              _c0|                ID|         Name|               Age|               Photo|Nationality|                Flag|          Overall|        Potential|                Club|           Club Logo|Value| Wage|           Special|Preferred Foot|International Reputation|         Weak Foot|       Skill Moves|     Work Rate|Body Type|Real Face|Position|     Jersey Number|     Joined|  Loaned From|Contract Valid Until|Height|Weight|   LS|   ST|   RS|   LW|   LF|   CF|   RF|   RW|  LAM|  CAM|  RAM|   LM|  LCM|   CM|  RCM|   RM|  LWB|  LDM|  CDM|  RDM|  RWB|   LB|  LCB|   CB|  RCB|   RB|          Crossing|        Finishing|   HeadingAccuracy|      ShortPassing|          Volleys|         Dribbling|             Curve|        FKAccuracy|       LongPassing|       BallControl|      Acceleration|       SprintSpeed|           Agility|        Reactions|           Balance|         ShotPower|           Jumping|           Stamina|          Strength|         LongShots|       Aggression|     Interceptions|      Positioning|            Vision|        Penalties|         Composure|           Marking|    StandingTackle|     SlidingTackle|          GKDiving|        GKHandling|         GKKicking|     GKPositioning|        GKReflexes|Release Clause|\n",
            "+-------+-----------------+------------------+-------------+------------------+--------------------+-----------+--------------------+-----------------+-----------------+--------------------+--------------------+-----+-----+------------------+--------------+------------------------+------------------+------------------+--------------+---------+---------+--------+------------------+-----------+-------------+--------------------+------+------+-----+-----+-----+-----+-----+-----+-----+-----+-----+-----+-----+-----+-----+-----+-----+-----+-----+-----+-----+-----+-----+-----+-----+-----+-----+-----+------------------+-----------------+------------------+------------------+-----------------+------------------+------------------+------------------+------------------+------------------+------------------+------------------+------------------+-----------------+------------------+------------------+------------------+------------------+------------------+------------------+-----------------+------------------+-----------------+------------------+-----------------+------------------+------------------+------------------+------------------+------------------+------------------+------------------+------------------+------------------+--------------+\n",
            "|  count|            18207|             18207|        18207|             18207|               18207|      18207|               18207|            18207|            18207|               17966|               18207|18207|18207|             18207|         18159|                   18159|             18159|             18159|         18159|    18159|    18159|   18147|             18147|      16654|         1264|               17918| 18159| 18159|16122|16122|16122|16122|16122|16122|16122|16122|16122|16122|16122|16122|16122|16122|16122|16122|16122|16122|16122|16122|16122|16122|16122|16122|16122|16122|             18159|            18159|             18159|             18159|            18159|             18159|             18159|             18159|             18159|             18159|             18159|             18159|             18159|            18159|             18159|             18159|             18159|             18159|             18159|             18159|            18159|             18159|            18159|             18159|            18159|             18159|             18159|             18159|             18159|             18159|             18159|             18159|             18159|             18159|         16643|\n",
            "|   mean|           9103.0|214298.33860603065|         null|25.122205745043114|                null|       null|                null|66.23869940132916|71.30729939034437|                null|                null| null| null|1597.8099082770364|          null|      1.1132220937276283|2.9472988600693872| 2.361308442094829|          null|     null|     null|    null|19.546095773406073|       null|         null|  2020.2414434970578|  null|  null| null| null| null| null| null| null| null| null| null| null| null| null| null| null| null| null| null| null| null| null| null| null| null| null| null| null|49.734181397654055|45.55091139379922| 52.29814417093452| 58.68671182333829| 42.9090258274134| 55.37100060576023|47.170824384602675|42.863153257337956|52.711933476513025|58.369458670631644| 64.61407566495953| 64.72696734401674|63.503607026818656|61.83660994548158|63.966573049176716| 55.46004735943609| 65.08943223745801|  63.2199460322705| 65.31196651798007| 47.10997301613525|55.86899058318189|46.698276336802685|49.95847788975164| 53.40090313343246|48.54859849110634|  58.6482735833471|47.281623437413955| 47.69783578390881| 45.66143510105182|  16.6162233603172|16.391596453549205| 16.23206123685225|16.388898067074177|16.710887163390055|          null|\n",
            "| stddev|5256.052511153213| 29965.24420376608|         null| 4.669942713414296|                null|       null|                null|6.908929611883165| 6.13649558349912|                null|                null| null| null| 272.5860158906397|          null|      0.3940307558442122|0.6604562822592945|0.7561640557919408|          null|     null|     null|    null|15.947765140868237|       null|         null|  1.2909282972004381|  null|  null| null| null| null| null| null| null| null| null| null| null| null| null| null| null| null| null| null| null| null| null| null| null| null| null| null| null| 18.36452420237953|19.52582047121581|17.379908855454627|14.699495132549078|17.69440772366863|18.910371098619716|18.395263818692563|17.478762995292467|15.327870463760853| 16.68659540555203|14.927779737812699|14.649952914352776|14.766049258067978|9.010464421352484|14.136165954649547|17.237957966796188|11.820044269269953|15.894740529253603|12.557000141076356|19.260524497970682| 17.3679673454432| 20.69690885978705|19.52903556526877|14.146880724464184|15.70405349133064|11.436132970353357|19.904397257020207|21.664003725934187|21.289134678741707|17.695348811680017|16.906900495701827|16.502864494079905|17.034669173227268|  17.9551186212007|          null|\n",
            "|    min|                0|                16|     A. Abang|                16|https://cdn.sofif...|Afghanistan|https://cdn.sofif...|               46|               48| SSV Jahn Regensburg|https://cdn.sofif...|   €0|   €0|               731|          Left|                       1|                 1|                 1|    High/ High|Akinfenwa|       No|     CAM|                 1|Apr 1, 2008|   1. FC Köln|                2018|   5'1|110lbs| 31+2| 31+2| 31+2| 25+2| 27+2| 27+2| 27+2| 25+2| 27+2| 27+2| 27+2| 27+2| 30+2| 30+2| 30+2| 27+2| 30+2| 28+2| 28+2| 28+2| 30+2| 29+2| 25+2| 25+2| 25+2| 29+2|                 5|                2|                 4|                 7|                4|                 4|                 6|                 3|                 9|                 5|                12|                12|                14|               21|                16|                 2|                15|                12|                17|                 3|               11|                 3|                2|                10|                5|                 3|                 3|                 2|                 3|                 1|                 1|                 1|                 1|                 1|         €1.1M|\n",
            "|    max|            18206|            246620|Óscar Whalley|                45|https://cdn.sofif...|   Zimbabwe|https://cdn.sofif...|               94|               95|       Śląsk Wrocław|https://cdn.sofif...|  €9M|  €9K|              2346|         Right|                       5|                 5|                 5|Medium/ Medium|   Stocky|      Yes|      ST|                99|Sep 9, 2018|Östersunds FK|        Oct 14, 2019|   6'9|243lbs| 91+3| 91+3| 91+3| 92+2| 93+2| 93+2| 93+2| 92+2| 93+2| 93+2| 93+2| 91+2| 88+3| 88+3| 88+3| 91+2| 85+3| 87+3| 87+3| 87+3| 85+3| 84+3| 87+3| 87+3| 87+3| 84+3|                93|               95|                94|                93|               90|                97|                94|                94|                93|                96|                97|                96|                96|               96|                96|                95|                95|                96|                97|                94|               95|                92|               95|                94|               92|                96|                94|                93|                91|                90|                92|                91|                90|                94|           €9M|\n",
            "+-------+-----------------+------------------+-------------+------------------+--------------------+-----------+--------------------+-----------------+-----------------+--------------------+--------------------+-----+-----+------------------+--------------+------------------------+------------------+------------------+--------------+---------+---------+--------+------------------+-----------+-------------+--------------------+------+------+-----+-----+-----+-----+-----+-----+-----+-----+-----+-----+-----+-----+-----+-----+-----+-----+-----+-----+-----+-----+-----+-----+-----+-----+-----+-----+------------------+-----------------+------------------+------------------+-----------------+------------------+------------------+------------------+------------------+------------------+------------------+------------------+------------------+-----------------+------------------+------------------+------------------+------------------+------------------+------------------+-----------------+------------------+-----------------+------------------+-----------------+------------------+------------------+------------------+------------------+------------------+------------------+------------------+------------------+------------------+--------------+\n",
            "\n"
          ]
        }
      ]
    },
    {
      "cell_type": "code",
      "source": [
        "df=df.drop('Photo','Flag','Club Logo')\n",
        "df.show()"
      ],
      "metadata": {
        "colab": {
          "base_uri": "https://localhost:8080/"
        },
        "id": "kF02BPks-eB4",
        "outputId": "326aceda-30a0-4d82-aa61-18adebbed79c"
      },
      "execution_count": 12,
      "outputs": [
        {
          "output_type": "stream",
          "name": "stdout",
          "text": [
            "+---+------+-----------------+---+-----------+-------+---------+-------------------+-------+-----+-------+--------------+------------------------+---------+-----------+--------------+----------+---------+--------+-------------+------------+-----------+--------------------+------+------+----+----+----+----+----+----+----+----+----+----+----+----+----+----+----+----+----+----+----+----+----+----+----+----+----+----+--------+---------+---------------+------------+-------+---------+-----+----------+-----------+-----------+------------+-----------+-------+---------+-------+---------+-------+-------+--------+---------+----------+-------------+-----------+------+---------+---------+-------+--------------+-------------+--------+----------+---------+-------------+----------+--------------+\n",
            "|_c0|    ID|             Name|Age|Nationality|Overall|Potential|               Club|  Value| Wage|Special|Preferred Foot|International Reputation|Weak Foot|Skill Moves|     Work Rate| Body Type|Real Face|Position|Jersey Number|      Joined|Loaned From|Contract Valid Until|Height|Weight|  LS|  ST|  RS|  LW|  LF|  CF|  RF|  RW| LAM| CAM| RAM|  LM| LCM|  CM| RCM|  RM| LWB| LDM| CDM| RDM| RWB|  LB| LCB|  CB| RCB|  RB|Crossing|Finishing|HeadingAccuracy|ShortPassing|Volleys|Dribbling|Curve|FKAccuracy|LongPassing|BallControl|Acceleration|SprintSpeed|Agility|Reactions|Balance|ShotPower|Jumping|Stamina|Strength|LongShots|Aggression|Interceptions|Positioning|Vision|Penalties|Composure|Marking|StandingTackle|SlidingTackle|GKDiving|GKHandling|GKKicking|GKPositioning|GKReflexes|Release Clause|\n",
            "+---+------+-----------------+---+-----------+-------+---------+-------------------+-------+-----+-------+--------------+------------------------+---------+-----------+--------------+----------+---------+--------+-------------+------------+-----------+--------------------+------+------+----+----+----+----+----+----+----+----+----+----+----+----+----+----+----+----+----+----+----+----+----+----+----+----+----+----+--------+---------+---------------+------------+-------+---------+-----+----------+-----------+-----------+------------+-----------+-------+---------+-------+---------+-------+-------+--------+---------+----------+-------------+-----------+------+---------+---------+-------+--------------+-------------+--------+----------+---------+-------------+----------+--------------+\n",
            "|  0|158023|         L. Messi| 31|  Argentina|     94|       94|       FC Barcelona|€110.5M|€565K|   2202|          Left|                       5|        4|          4|Medium/ Medium|     Messi|      Yes|      RF|           10| Jul 1, 2004|       null|                2021|   5'7|159lbs|88+2|88+2|88+2|92+2|93+2|93+2|93+2|92+2|93+2|93+2|93+2|91+2|84+2|84+2|84+2|91+2|64+2|61+2|61+2|61+2|64+2|59+2|47+2|47+2|47+2|59+2|      84|       95|             70|          90|     86|       97|   93|        94|         87|         96|          91|         86|     91|       95|     95|       85|     68|     72|      59|       94|        48|           22|         94|    94|       75|       96|     33|            28|           26|       6|        11|       15|           14|         8|       €226.5M|\n",
            "|  1| 20801|Cristiano Ronaldo| 33|   Portugal|     94|       94|           Juventus|   €77M|€405K|   2228|         Right|                       5|        4|          5|     High/ Low|C. Ronaldo|      Yes|      ST|            7|Jul 10, 2018|       null|                2022|   6'2|183lbs|91+3|91+3|91+3|89+3|90+3|90+3|90+3|89+3|88+3|88+3|88+3|88+3|81+3|81+3|81+3|88+3|65+3|61+3|61+3|61+3|65+3|61+3|53+3|53+3|53+3|61+3|      84|       94|             89|          81|     87|       88|   81|        76|         77|         94|          89|         91|     87|       96|     70|       95|     95|     88|      79|       93|        63|           29|         95|    82|       85|       95|     28|            31|           23|       7|        11|       15|           14|        11|       €127.1M|\n",
            "|  2|190871|        Neymar Jr| 26|     Brazil|     92|       93|Paris Saint-Germain|€118.5M|€290K|   2143|         Right|                       5|        5|          5|  High/ Medium|    Neymar|      Yes|      LW|           10| Aug 3, 2017|       null|                2022|   5'9|150lbs|84+3|84+3|84+3|89+3|89+3|89+3|89+3|89+3|89+3|89+3|89+3|88+3|81+3|81+3|81+3|88+3|65+3|60+3|60+3|60+3|65+3|60+3|47+3|47+3|47+3|60+3|      79|       87|             62|          84|     84|       96|   88|        87|         78|         95|          94|         90|     96|       94|     84|       80|     61|     81|      49|       82|        56|           36|         89|    87|       81|       94|     27|            24|           33|       9|         9|       15|           15|        11|       €228.1M|\n",
            "|  3|193080|           De Gea| 27|      Spain|     91|       93|  Manchester United|   €72M|€260K|   1471|         Right|                       4|        3|          1|Medium/ Medium|      Lean|      Yes|      GK|            1| Jul 1, 2011|       null|                2020|   6'4|168lbs|null|null|null|null|null|null|null|null|null|null|null|null|null|null|null|null|null|null|null|null|null|null|null|null|null|null|      17|       13|             21|          50|     13|       18|   21|        19|         51|         42|          57|         58|     60|       90|     43|       31|     67|     43|      64|       12|        38|           30|         12|    68|       40|       68|     15|            21|           13|      90|        85|       87|           88|        94|       €138.6M|\n",
            "|  4|192985|     K. De Bruyne| 27|    Belgium|     91|       92|    Manchester City|  €102M|€355K|   2281|         Right|                       4|        5|          4|    High/ High|    Normal|      Yes|     RCM|            7|Aug 30, 2015|       null|                2023|  5'11|154lbs|82+3|82+3|82+3|87+3|87+3|87+3|87+3|87+3|88+3|88+3|88+3|88+3|87+3|87+3|87+3|88+3|77+3|77+3|77+3|77+3|77+3|73+3|66+3|66+3|66+3|73+3|      93|       82|             55|          92|     82|       86|   85|        83|         91|         91|          78|         76|     79|       91|     77|       91|     63|     90|      75|       91|        76|           61|         87|    94|       79|       88|     68|            58|           51|      15|        13|        5|           10|        13|       €196.4M|\n",
            "|  5|183277|        E. Hazard| 27|    Belgium|     91|       91|            Chelsea|   €93M|€340K|   2142|         Right|                       4|        4|          4|  High/ Medium|    Normal|      Yes|      LF|           10| Jul 1, 2012|       null|                2020|   5'8|163lbs|83+3|83+3|83+3|89+3|88+3|88+3|88+3|89+3|89+3|89+3|89+3|89+3|82+3|82+3|82+3|89+3|66+3|63+3|63+3|63+3|66+3|60+3|49+3|49+3|49+3|60+3|      81|       84|             61|          89|     80|       95|   83|        79|         83|         94|          94|         88|     95|       90|     94|       82|     56|     83|      66|       80|        54|           41|         87|    89|       86|       91|     34|            27|           22|      11|        12|        6|            8|         8|       €172.1M|\n",
            "|  6|177003|        L. Modrić| 32|    Croatia|     91|       91|        Real Madrid|   €67M|€420K|   2280|         Right|                       4|        4|          4|    High/ High|      Lean|      Yes|     RCM|           10| Aug 1, 2012|       null|                2020|   5'8|146lbs|77+3|77+3|77+3|85+3|84+3|84+3|84+3|85+3|87+3|87+3|87+3|86+3|88+3|88+3|88+3|86+3|82+3|81+3|81+3|81+3|82+3|79+3|71+3|71+3|71+3|79+3|      86|       72|             55|          93|     76|       90|   85|        78|         88|         93|          80|         72|     93|       90|     94|       79|     68|     89|      58|       82|        62|           83|         79|    92|       82|       84|     60|            76|           73|      13|         9|        7|           14|         9|       €137.4M|\n",
            "|  7|176580|        L. Suárez| 31|    Uruguay|     91|       91|       FC Barcelona|   €80M|€455K|   2346|         Right|                       5|        4|          3|  High/ Medium|    Normal|      Yes|      RS|            9|Jul 11, 2014|       null|                2021|   6'0|190lbs|87+5|87+5|87+5|86+5|87+5|87+5|87+5|86+5|85+5|85+5|85+5|84+5|79+5|79+5|79+5|84+5|69+5|68+5|68+5|68+5|69+5|66+5|63+5|63+5|63+5|66+5|      77|       93|             77|          82|     88|       87|   86|        84|         64|         90|          86|         75|     82|       92|     83|       86|     69|     90|      83|       85|        87|           41|         92|    84|       85|       85|     62|            45|           38|      27|        25|       31|           33|        37|         €164M|\n",
            "|  8|155862|     Sergio Ramos| 32|      Spain|     91|       91|        Real Madrid|   €51M|€380K|   2201|         Right|                       4|        3|          3|  High/ Medium|    Normal|      Yes|     RCB|           15| Aug 1, 2005|       null|                2020|   6'0|181lbs|73+3|73+3|73+3|70+3|71+3|71+3|71+3|70+3|71+3|71+3|71+3|72+3|75+3|75+3|75+3|72+3|81+3|84+3|84+3|84+3|81+3|84+3|87+3|87+3|87+3|84+3|      66|       60|             91|          78|     66|       63|   74|        72|         77|         84|          76|         75|     78|       85|     66|       79|     93|     84|      83|       59|        88|           90|         60|    63|       75|       82|     87|            92|           91|      11|         8|        9|            7|        11|       €104.6M|\n",
            "|  9|200389|         J. Oblak| 25|   Slovenia|     90|       93|    Atlético Madrid|   €68M| €94K|   1331|         Right|                       3|        3|          1|Medium/ Medium|    Normal|      Yes|      GK|            1|Jul 16, 2014|       null|                2021|   6'2|192lbs|null|null|null|null|null|null|null|null|null|null|null|null|null|null|null|null|null|null|null|null|null|null|null|null|null|null|      13|       11|             15|          29|     13|       12|   13|        14|         26|         16|          43|         60|     67|       86|     49|       22|     76|     41|      78|       12|        34|           19|         11|    70|       11|       70|     27|            12|           18|      86|        92|       78|           88|        89|       €144.5M|\n",
            "| 10|188545|   R. Lewandowski| 29|     Poland|     90|       90|  FC Bayern München|   €77M|€205K|   2152|         Right|                       4|        4|          4|  High/ Medium|    Normal|      Yes|      ST|            9| Jul 1, 2014|       null|                2021|   6'0|176lbs|87+3|87+3|87+3|83+3|86+3|86+3|86+3|83+3|83+3|83+3|83+3|81+3|77+3|77+3|77+3|81+3|61+3|62+3|62+3|62+3|61+3|58+3|57+3|57+3|57+3|58+3|      62|       91|             85|          83|     89|       85|   77|        86|         65|         89|          77|         78|     78|       90|     78|       88|     84|     78|      84|       84|        80|           39|         91|    77|       88|       86|     34|            42|           19|      15|         6|       12|            8|        10|       €127.1M|\n",
            "| 11|182521|         T. Kroos| 28|    Germany|     90|       90|        Real Madrid| €76.5M|€355K|   2190|         Right|                       4|        5|          3|Medium/ Medium|    Normal|      Yes|     LCM|            8|Jul 17, 2014|       null|                2022|   6'0|168lbs|78+3|78+3|78+3|81+3|82+3|82+3|82+3|81+3|84+3|84+3|84+3|82+3|86+3|86+3|86+3|82+3|79+3|82+3|82+3|82+3|79+3|77+3|72+3|72+3|72+3|77+3|      88|       76|             54|          92|     82|       81|   86|        84|         93|         90|          64|         62|     70|       89|     71|       87|     30|     75|      73|       92|        60|           82|         79|    86|       73|       85|     72|            79|           69|      10|        11|       13|            7|        10|       €156.8M|\n",
            "| 12|182493|         D. Godín| 32|    Uruguay|     90|       90|    Atlético Madrid|   €44M|€125K|   1946|         Right|                       3|        3|          2|  Medium/ High|      Lean|      Yes|      CB|           10| Aug 4, 2010|       null|                2019|   6'2|172lbs|64+3|64+3|64+3|61+3|62+3|62+3|62+3|61+3|62+3|62+3|62+3|63+3|68+3|68+3|68+3|63+3|76+3|81+3|81+3|81+3|76+3|79+3|87+3|87+3|87+3|79+3|      55|       42|             92|          79|     47|       53|   49|        51|         70|         76|          68|         68|     58|       85|     54|       67|     91|     66|      88|       43|        89|           88|         48|    52|       50|       82|     90|            89|           89|       6|         8|       15|            5|        15|        €90.2M|\n",
            "| 13|168542|      David Silva| 32|      Spain|     90|       90|    Manchester City|   €60M|€285K|   2115|          Left|                       4|        2|          4|  High/ Medium|    Normal|      Yes|     LCM|           21|Jul 14, 2010|       null|                2020|   5'8|148lbs|77+3|77+3|77+3|85+3|84+3|84+3|84+3|85+3|87+3|87+3|87+3|85+3|85+3|85+3|85+3|85+3|69+3|70+3|70+3|70+3|69+3|64+3|57+3|57+3|57+3|64+3|      84|       76|             54|          93|     82|       89|   82|        77|         87|         94|          70|         64|     92|       90|     90|       72|     64|     78|      52|       75|        57|           50|         89|    92|       75|       93|     59|            53|           29|       6|        15|        7|            6|        12|         €111M|\n",
            "| 14|215914|         N. Kanté| 27|     France|     89|       90|            Chelsea|   €63M|€225K|   2189|         Right|                       3|        3|          2|  Medium/ High|      Lean|      Yes|     LDM|           13|Jul 16, 2016|       null|                2023|   5'6|159lbs|72+3|72+3|72+3|77+3|77+3|77+3|77+3|77+3|79+3|79+3|79+3|79+3|82+3|82+3|82+3|79+3|85+3|87+3|87+3|87+3|85+3|84+3|83+3|83+3|83+3|84+3|      68|       65|             54|          86|     56|       79|   49|        49|         81|         80|          82|         78|     82|       93|     92|       71|     77|     96|      76|       69|        90|           92|         71|    79|       54|       85|     90|            91|           85|      15|        12|       10|            7|        10|       €121.3M|\n",
            "| 15|211110|        P. Dybala| 24|  Argentina|     89|       94|           Juventus|   €89M|€205K|   2092|          Left|                       3|        3|          4|  High/ Medium|    Normal|      Yes|      LF|           21| Jul 1, 2015|       null|                2022|  5'10|165lbs|83+3|83+3|83+3|87+3|86+3|86+3|86+3|87+3|87+3|87+3|87+3|86+3|79+3|79+3|79+3|86+3|62+3|58+3|58+3|58+3|62+3|56+3|45+3|45+3|45+3|56+3|      82|       84|             68|          87|     88|       92|   88|        88|         75|         92|          87|         83|     91|       86|     85|       82|     75|     80|      65|       88|        48|           32|         84|    87|       86|       84|     23|            20|           20|       5|         4|        4|            5|         8|       €153.5M|\n",
            "| 16|202126|          H. Kane| 24|    England|     89|       91|  Tottenham Hotspur| €83.5M|€205K|   2165|         Right|                       3|        4|          3|    High/ High|    Normal|      Yes|      ST|            9| Jul 1, 2010|       null|                2024|   6'2|196lbs|86+3|86+3|86+3|82+3|84+3|84+3|84+3|82+3|82+3|82+3|82+3|81+3|79+3|79+3|79+3|81+3|65+3|66+3|66+3|66+3|65+3|62+3|60+3|60+3|60+3|62+3|      75|       94|             85|          80|     84|       80|   78|        68|         82|         84|          68|         72|     71|       91|     71|       88|     78|     89|      84|       85|        76|           35|         93|    80|       90|       89|     56|            36|           38|       8|        10|       11|           14|        11|       €160.7M|\n",
            "| 17|194765|     A. Griezmann| 27|     France|     89|       90|    Atlético Madrid|   €78M|€145K|   2246|          Left|                       4|        3|          4|    High/ High|      Lean|      Yes|     CAM|            7|Jul 28, 2014|       null|                2023|   5'9|161lbs|86+3|86+3|86+3|87+3|87+3|87+3|87+3|87+3|86+3|86+3|86+3|86+3|80+3|80+3|80+3|86+3|70+3|67+3|67+3|67+3|70+3|67+3|61+3|61+3|61+3|67+3|      82|       90|             84|          83|     87|       88|   84|        78|         76|         90|          88|         85|     90|       90|     80|       80|     90|     83|      62|       82|        69|           35|         91|    83|       79|       87|     59|            47|           48|      14|         8|       14|           13|        14|       €165.8M|\n",
            "| 18|192448|    M. ter Stegen| 26|    Germany|     89|       92|       FC Barcelona|   €58M|€240K|   1328|         Right|                       3|        4|          1|Medium/ Medium|    Normal|      Yes|      GK|           22| Jul 1, 2014|       null|                2022|   6'2|187lbs|null|null|null|null|null|null|null|null|null|null|null|null|null|null|null|null|null|null|null|null|null|null|null|null|null|null|      15|       14|             11|          36|     14|       17|   18|        12|         42|         18|          38|         50|     37|       85|     43|       22|     79|     35|      79|       10|        43|           22|         11|    69|       25|       69|     25|            13|           10|      87|        85|       88|           85|        90|       €123.3M|\n",
            "| 19|192119|      T. Courtois| 26|    Belgium|     89|       90|        Real Madrid| €53.5M|€240K|   1311|          Left|                       4|        2|          1|Medium/ Medium|  Courtois|      Yes|      GK|            1| Aug 9, 2018|       null|                2024|   6'6|212lbs|null|null|null|null|null|null|null|null|null|null|null|null|null|null|null|null|null|null|null|null|null|null|null|null|null|null|      14|       14|             13|          33|     12|       13|   19|        20|         35|         23|          46|         52|     61|       84|     45|       36|     68|     38|      70|       17|        23|           15|         13|    44|       27|       66|     20|            18|           16|      85|        91|       72|           86|        88|       €113.7M|\n",
            "+---+------+-----------------+---+-----------+-------+---------+-------------------+-------+-----+-------+--------------+------------------------+---------+-----------+--------------+----------+---------+--------+-------------+------------+-----------+--------------------+------+------+----+----+----+----+----+----+----+----+----+----+----+----+----+----+----+----+----+----+----+----+----+----+----+----+----+----+--------+---------+---------------+------------+-------+---------+-----+----------+-----------+-----------+------------+-----------+-------+---------+-------+---------+-------+-------+--------+---------+----------+-------------+-----------+------+---------+---------+-------+--------------+-------------+--------+----------+---------+-------------+----------+--------------+\n",
            "only showing top 20 rows\n",
            "\n"
          ]
        }
      ]
    },
    {
      "cell_type": "code",
      "source": [
        "df= df.withColumnRenamed('_c0','Index')\n",
        "df.show()"
      ],
      "metadata": {
        "colab": {
          "base_uri": "https://localhost:8080/"
        },
        "id": "n3ewkVOUUf_x",
        "outputId": "407e09d0-dce0-471a-f8b4-675ff186ec12"
      },
      "execution_count": 13,
      "outputs": [
        {
          "output_type": "stream",
          "name": "stdout",
          "text": [
            "+-----+------+-----------------+---+-----------+-------+---------+-------------------+-------+-----+-------+--------------+------------------------+---------+-----------+--------------+----------+---------+--------+-------------+------------+-----------+--------------------+------+------+----+----+----+----+----+----+----+----+----+----+----+----+----+----+----+----+----+----+----+----+----+----+----+----+----+----+--------+---------+---------------+------------+-------+---------+-----+----------+-----------+-----------+------------+-----------+-------+---------+-------+---------+-------+-------+--------+---------+----------+-------------+-----------+------+---------+---------+-------+--------------+-------------+--------+----------+---------+-------------+----------+--------------+\n",
            "|Index|    ID|             Name|Age|Nationality|Overall|Potential|               Club|  Value| Wage|Special|Preferred Foot|International Reputation|Weak Foot|Skill Moves|     Work Rate| Body Type|Real Face|Position|Jersey Number|      Joined|Loaned From|Contract Valid Until|Height|Weight|  LS|  ST|  RS|  LW|  LF|  CF|  RF|  RW| LAM| CAM| RAM|  LM| LCM|  CM| RCM|  RM| LWB| LDM| CDM| RDM| RWB|  LB| LCB|  CB| RCB|  RB|Crossing|Finishing|HeadingAccuracy|ShortPassing|Volleys|Dribbling|Curve|FKAccuracy|LongPassing|BallControl|Acceleration|SprintSpeed|Agility|Reactions|Balance|ShotPower|Jumping|Stamina|Strength|LongShots|Aggression|Interceptions|Positioning|Vision|Penalties|Composure|Marking|StandingTackle|SlidingTackle|GKDiving|GKHandling|GKKicking|GKPositioning|GKReflexes|Release Clause|\n",
            "+-----+------+-----------------+---+-----------+-------+---------+-------------------+-------+-----+-------+--------------+------------------------+---------+-----------+--------------+----------+---------+--------+-------------+------------+-----------+--------------------+------+------+----+----+----+----+----+----+----+----+----+----+----+----+----+----+----+----+----+----+----+----+----+----+----+----+----+----+--------+---------+---------------+------------+-------+---------+-----+----------+-----------+-----------+------------+-----------+-------+---------+-------+---------+-------+-------+--------+---------+----------+-------------+-----------+------+---------+---------+-------+--------------+-------------+--------+----------+---------+-------------+----------+--------------+\n",
            "|    0|158023|         L. Messi| 31|  Argentina|     94|       94|       FC Barcelona|€110.5M|€565K|   2202|          Left|                       5|        4|          4|Medium/ Medium|     Messi|      Yes|      RF|           10| Jul 1, 2004|       null|                2021|   5'7|159lbs|88+2|88+2|88+2|92+2|93+2|93+2|93+2|92+2|93+2|93+2|93+2|91+2|84+2|84+2|84+2|91+2|64+2|61+2|61+2|61+2|64+2|59+2|47+2|47+2|47+2|59+2|      84|       95|             70|          90|     86|       97|   93|        94|         87|         96|          91|         86|     91|       95|     95|       85|     68|     72|      59|       94|        48|           22|         94|    94|       75|       96|     33|            28|           26|       6|        11|       15|           14|         8|       €226.5M|\n",
            "|    1| 20801|Cristiano Ronaldo| 33|   Portugal|     94|       94|           Juventus|   €77M|€405K|   2228|         Right|                       5|        4|          5|     High/ Low|C. Ronaldo|      Yes|      ST|            7|Jul 10, 2018|       null|                2022|   6'2|183lbs|91+3|91+3|91+3|89+3|90+3|90+3|90+3|89+3|88+3|88+3|88+3|88+3|81+3|81+3|81+3|88+3|65+3|61+3|61+3|61+3|65+3|61+3|53+3|53+3|53+3|61+3|      84|       94|             89|          81|     87|       88|   81|        76|         77|         94|          89|         91|     87|       96|     70|       95|     95|     88|      79|       93|        63|           29|         95|    82|       85|       95|     28|            31|           23|       7|        11|       15|           14|        11|       €127.1M|\n",
            "|    2|190871|        Neymar Jr| 26|     Brazil|     92|       93|Paris Saint-Germain|€118.5M|€290K|   2143|         Right|                       5|        5|          5|  High/ Medium|    Neymar|      Yes|      LW|           10| Aug 3, 2017|       null|                2022|   5'9|150lbs|84+3|84+3|84+3|89+3|89+3|89+3|89+3|89+3|89+3|89+3|89+3|88+3|81+3|81+3|81+3|88+3|65+3|60+3|60+3|60+3|65+3|60+3|47+3|47+3|47+3|60+3|      79|       87|             62|          84|     84|       96|   88|        87|         78|         95|          94|         90|     96|       94|     84|       80|     61|     81|      49|       82|        56|           36|         89|    87|       81|       94|     27|            24|           33|       9|         9|       15|           15|        11|       €228.1M|\n",
            "|    3|193080|           De Gea| 27|      Spain|     91|       93|  Manchester United|   €72M|€260K|   1471|         Right|                       4|        3|          1|Medium/ Medium|      Lean|      Yes|      GK|            1| Jul 1, 2011|       null|                2020|   6'4|168lbs|null|null|null|null|null|null|null|null|null|null|null|null|null|null|null|null|null|null|null|null|null|null|null|null|null|null|      17|       13|             21|          50|     13|       18|   21|        19|         51|         42|          57|         58|     60|       90|     43|       31|     67|     43|      64|       12|        38|           30|         12|    68|       40|       68|     15|            21|           13|      90|        85|       87|           88|        94|       €138.6M|\n",
            "|    4|192985|     K. De Bruyne| 27|    Belgium|     91|       92|    Manchester City|  €102M|€355K|   2281|         Right|                       4|        5|          4|    High/ High|    Normal|      Yes|     RCM|            7|Aug 30, 2015|       null|                2023|  5'11|154lbs|82+3|82+3|82+3|87+3|87+3|87+3|87+3|87+3|88+3|88+3|88+3|88+3|87+3|87+3|87+3|88+3|77+3|77+3|77+3|77+3|77+3|73+3|66+3|66+3|66+3|73+3|      93|       82|             55|          92|     82|       86|   85|        83|         91|         91|          78|         76|     79|       91|     77|       91|     63|     90|      75|       91|        76|           61|         87|    94|       79|       88|     68|            58|           51|      15|        13|        5|           10|        13|       €196.4M|\n",
            "|    5|183277|        E. Hazard| 27|    Belgium|     91|       91|            Chelsea|   €93M|€340K|   2142|         Right|                       4|        4|          4|  High/ Medium|    Normal|      Yes|      LF|           10| Jul 1, 2012|       null|                2020|   5'8|163lbs|83+3|83+3|83+3|89+3|88+3|88+3|88+3|89+3|89+3|89+3|89+3|89+3|82+3|82+3|82+3|89+3|66+3|63+3|63+3|63+3|66+3|60+3|49+3|49+3|49+3|60+3|      81|       84|             61|          89|     80|       95|   83|        79|         83|         94|          94|         88|     95|       90|     94|       82|     56|     83|      66|       80|        54|           41|         87|    89|       86|       91|     34|            27|           22|      11|        12|        6|            8|         8|       €172.1M|\n",
            "|    6|177003|        L. Modrić| 32|    Croatia|     91|       91|        Real Madrid|   €67M|€420K|   2280|         Right|                       4|        4|          4|    High/ High|      Lean|      Yes|     RCM|           10| Aug 1, 2012|       null|                2020|   5'8|146lbs|77+3|77+3|77+3|85+3|84+3|84+3|84+3|85+3|87+3|87+3|87+3|86+3|88+3|88+3|88+3|86+3|82+3|81+3|81+3|81+3|82+3|79+3|71+3|71+3|71+3|79+3|      86|       72|             55|          93|     76|       90|   85|        78|         88|         93|          80|         72|     93|       90|     94|       79|     68|     89|      58|       82|        62|           83|         79|    92|       82|       84|     60|            76|           73|      13|         9|        7|           14|         9|       €137.4M|\n",
            "|    7|176580|        L. Suárez| 31|    Uruguay|     91|       91|       FC Barcelona|   €80M|€455K|   2346|         Right|                       5|        4|          3|  High/ Medium|    Normal|      Yes|      RS|            9|Jul 11, 2014|       null|                2021|   6'0|190lbs|87+5|87+5|87+5|86+5|87+5|87+5|87+5|86+5|85+5|85+5|85+5|84+5|79+5|79+5|79+5|84+5|69+5|68+5|68+5|68+5|69+5|66+5|63+5|63+5|63+5|66+5|      77|       93|             77|          82|     88|       87|   86|        84|         64|         90|          86|         75|     82|       92|     83|       86|     69|     90|      83|       85|        87|           41|         92|    84|       85|       85|     62|            45|           38|      27|        25|       31|           33|        37|         €164M|\n",
            "|    8|155862|     Sergio Ramos| 32|      Spain|     91|       91|        Real Madrid|   €51M|€380K|   2201|         Right|                       4|        3|          3|  High/ Medium|    Normal|      Yes|     RCB|           15| Aug 1, 2005|       null|                2020|   6'0|181lbs|73+3|73+3|73+3|70+3|71+3|71+3|71+3|70+3|71+3|71+3|71+3|72+3|75+3|75+3|75+3|72+3|81+3|84+3|84+3|84+3|81+3|84+3|87+3|87+3|87+3|84+3|      66|       60|             91|          78|     66|       63|   74|        72|         77|         84|          76|         75|     78|       85|     66|       79|     93|     84|      83|       59|        88|           90|         60|    63|       75|       82|     87|            92|           91|      11|         8|        9|            7|        11|       €104.6M|\n",
            "|    9|200389|         J. Oblak| 25|   Slovenia|     90|       93|    Atlético Madrid|   €68M| €94K|   1331|         Right|                       3|        3|          1|Medium/ Medium|    Normal|      Yes|      GK|            1|Jul 16, 2014|       null|                2021|   6'2|192lbs|null|null|null|null|null|null|null|null|null|null|null|null|null|null|null|null|null|null|null|null|null|null|null|null|null|null|      13|       11|             15|          29|     13|       12|   13|        14|         26|         16|          43|         60|     67|       86|     49|       22|     76|     41|      78|       12|        34|           19|         11|    70|       11|       70|     27|            12|           18|      86|        92|       78|           88|        89|       €144.5M|\n",
            "|   10|188545|   R. Lewandowski| 29|     Poland|     90|       90|  FC Bayern München|   €77M|€205K|   2152|         Right|                       4|        4|          4|  High/ Medium|    Normal|      Yes|      ST|            9| Jul 1, 2014|       null|                2021|   6'0|176lbs|87+3|87+3|87+3|83+3|86+3|86+3|86+3|83+3|83+3|83+3|83+3|81+3|77+3|77+3|77+3|81+3|61+3|62+3|62+3|62+3|61+3|58+3|57+3|57+3|57+3|58+3|      62|       91|             85|          83|     89|       85|   77|        86|         65|         89|          77|         78|     78|       90|     78|       88|     84|     78|      84|       84|        80|           39|         91|    77|       88|       86|     34|            42|           19|      15|         6|       12|            8|        10|       €127.1M|\n",
            "|   11|182521|         T. Kroos| 28|    Germany|     90|       90|        Real Madrid| €76.5M|€355K|   2190|         Right|                       4|        5|          3|Medium/ Medium|    Normal|      Yes|     LCM|            8|Jul 17, 2014|       null|                2022|   6'0|168lbs|78+3|78+3|78+3|81+3|82+3|82+3|82+3|81+3|84+3|84+3|84+3|82+3|86+3|86+3|86+3|82+3|79+3|82+3|82+3|82+3|79+3|77+3|72+3|72+3|72+3|77+3|      88|       76|             54|          92|     82|       81|   86|        84|         93|         90|          64|         62|     70|       89|     71|       87|     30|     75|      73|       92|        60|           82|         79|    86|       73|       85|     72|            79|           69|      10|        11|       13|            7|        10|       €156.8M|\n",
            "|   12|182493|         D. Godín| 32|    Uruguay|     90|       90|    Atlético Madrid|   €44M|€125K|   1946|         Right|                       3|        3|          2|  Medium/ High|      Lean|      Yes|      CB|           10| Aug 4, 2010|       null|                2019|   6'2|172lbs|64+3|64+3|64+3|61+3|62+3|62+3|62+3|61+3|62+3|62+3|62+3|63+3|68+3|68+3|68+3|63+3|76+3|81+3|81+3|81+3|76+3|79+3|87+3|87+3|87+3|79+3|      55|       42|             92|          79|     47|       53|   49|        51|         70|         76|          68|         68|     58|       85|     54|       67|     91|     66|      88|       43|        89|           88|         48|    52|       50|       82|     90|            89|           89|       6|         8|       15|            5|        15|        €90.2M|\n",
            "|   13|168542|      David Silva| 32|      Spain|     90|       90|    Manchester City|   €60M|€285K|   2115|          Left|                       4|        2|          4|  High/ Medium|    Normal|      Yes|     LCM|           21|Jul 14, 2010|       null|                2020|   5'8|148lbs|77+3|77+3|77+3|85+3|84+3|84+3|84+3|85+3|87+3|87+3|87+3|85+3|85+3|85+3|85+3|85+3|69+3|70+3|70+3|70+3|69+3|64+3|57+3|57+3|57+3|64+3|      84|       76|             54|          93|     82|       89|   82|        77|         87|         94|          70|         64|     92|       90|     90|       72|     64|     78|      52|       75|        57|           50|         89|    92|       75|       93|     59|            53|           29|       6|        15|        7|            6|        12|         €111M|\n",
            "|   14|215914|         N. Kanté| 27|     France|     89|       90|            Chelsea|   €63M|€225K|   2189|         Right|                       3|        3|          2|  Medium/ High|      Lean|      Yes|     LDM|           13|Jul 16, 2016|       null|                2023|   5'6|159lbs|72+3|72+3|72+3|77+3|77+3|77+3|77+3|77+3|79+3|79+3|79+3|79+3|82+3|82+3|82+3|79+3|85+3|87+3|87+3|87+3|85+3|84+3|83+3|83+3|83+3|84+3|      68|       65|             54|          86|     56|       79|   49|        49|         81|         80|          82|         78|     82|       93|     92|       71|     77|     96|      76|       69|        90|           92|         71|    79|       54|       85|     90|            91|           85|      15|        12|       10|            7|        10|       €121.3M|\n",
            "|   15|211110|        P. Dybala| 24|  Argentina|     89|       94|           Juventus|   €89M|€205K|   2092|          Left|                       3|        3|          4|  High/ Medium|    Normal|      Yes|      LF|           21| Jul 1, 2015|       null|                2022|  5'10|165lbs|83+3|83+3|83+3|87+3|86+3|86+3|86+3|87+3|87+3|87+3|87+3|86+3|79+3|79+3|79+3|86+3|62+3|58+3|58+3|58+3|62+3|56+3|45+3|45+3|45+3|56+3|      82|       84|             68|          87|     88|       92|   88|        88|         75|         92|          87|         83|     91|       86|     85|       82|     75|     80|      65|       88|        48|           32|         84|    87|       86|       84|     23|            20|           20|       5|         4|        4|            5|         8|       €153.5M|\n",
            "|   16|202126|          H. Kane| 24|    England|     89|       91|  Tottenham Hotspur| €83.5M|€205K|   2165|         Right|                       3|        4|          3|    High/ High|    Normal|      Yes|      ST|            9| Jul 1, 2010|       null|                2024|   6'2|196lbs|86+3|86+3|86+3|82+3|84+3|84+3|84+3|82+3|82+3|82+3|82+3|81+3|79+3|79+3|79+3|81+3|65+3|66+3|66+3|66+3|65+3|62+3|60+3|60+3|60+3|62+3|      75|       94|             85|          80|     84|       80|   78|        68|         82|         84|          68|         72|     71|       91|     71|       88|     78|     89|      84|       85|        76|           35|         93|    80|       90|       89|     56|            36|           38|       8|        10|       11|           14|        11|       €160.7M|\n",
            "|   17|194765|     A. Griezmann| 27|     France|     89|       90|    Atlético Madrid|   €78M|€145K|   2246|          Left|                       4|        3|          4|    High/ High|      Lean|      Yes|     CAM|            7|Jul 28, 2014|       null|                2023|   5'9|161lbs|86+3|86+3|86+3|87+3|87+3|87+3|87+3|87+3|86+3|86+3|86+3|86+3|80+3|80+3|80+3|86+3|70+3|67+3|67+3|67+3|70+3|67+3|61+3|61+3|61+3|67+3|      82|       90|             84|          83|     87|       88|   84|        78|         76|         90|          88|         85|     90|       90|     80|       80|     90|     83|      62|       82|        69|           35|         91|    83|       79|       87|     59|            47|           48|      14|         8|       14|           13|        14|       €165.8M|\n",
            "|   18|192448|    M. ter Stegen| 26|    Germany|     89|       92|       FC Barcelona|   €58M|€240K|   1328|         Right|                       3|        4|          1|Medium/ Medium|    Normal|      Yes|      GK|           22| Jul 1, 2014|       null|                2022|   6'2|187lbs|null|null|null|null|null|null|null|null|null|null|null|null|null|null|null|null|null|null|null|null|null|null|null|null|null|null|      15|       14|             11|          36|     14|       17|   18|        12|         42|         18|          38|         50|     37|       85|     43|       22|     79|     35|      79|       10|        43|           22|         11|    69|       25|       69|     25|            13|           10|      87|        85|       88|           85|        90|       €123.3M|\n",
            "|   19|192119|      T. Courtois| 26|    Belgium|     89|       90|        Real Madrid| €53.5M|€240K|   1311|          Left|                       4|        2|          1|Medium/ Medium|  Courtois|      Yes|      GK|            1| Aug 9, 2018|       null|                2024|   6'6|212lbs|null|null|null|null|null|null|null|null|null|null|null|null|null|null|null|null|null|null|null|null|null|null|null|null|null|null|      14|       14|             13|          33|     12|       13|   19|        20|         35|         23|          46|         52|     61|       84|     45|       36|     68|     38|      70|       17|        23|           15|         13|    44|       27|       66|     20|            18|           16|      85|        91|       72|           86|        88|       €113.7M|\n",
            "+-----+------+-----------------+---+-----------+-------+---------+-------------------+-------+-----+-------+--------------+------------------------+---------+-----------+--------------+----------+---------+--------+-------------+------------+-----------+--------------------+------+------+----+----+----+----+----+----+----+----+----+----+----+----+----+----+----+----+----+----+----+----+----+----+----+----+----+----+--------+---------+---------------+------------+-------+---------+-----+----------+-----------+-----------+------------+-----------+-------+---------+-------+---------+-------+-------+--------+---------+----------+-------------+-----------+------+---------+---------+-------+--------------+-------------+--------+----------+---------+-------------+----------+--------------+\n",
            "only showing top 20 rows\n",
            "\n"
          ]
        }
      ]
    },
    {
      "cell_type": "code",
      "source": [
        "import pyspark.sql.functions as f\n",
        "Values = df.select('Value',f.regexp_replace(f.col('Value'),'[€M]','').alias('Values')).select(f.col('Values'))"
      ],
      "metadata": {
        "id": "ISU9oc8zfsvr"
      },
      "execution_count": 14,
      "outputs": []
    },
    {
      "cell_type": "code",
      "source": [
        "Values.show()"
      ],
      "metadata": {
        "colab": {
          "base_uri": "https://localhost:8080/"
        },
        "id": "2FSOsJJGl74_",
        "outputId": "5bf3bc95-7b0d-4212-d588-977c02bd64e2"
      },
      "execution_count": 15,
      "outputs": [
        {
          "output_type": "stream",
          "name": "stdout",
          "text": [
            "+------+\n",
            "|Values|\n",
            "+------+\n",
            "| 110.5|\n",
            "|    77|\n",
            "| 118.5|\n",
            "|    72|\n",
            "|   102|\n",
            "|    93|\n",
            "|    67|\n",
            "|    80|\n",
            "|    51|\n",
            "|    68|\n",
            "|    77|\n",
            "|  76.5|\n",
            "|    44|\n",
            "|    60|\n",
            "|    63|\n",
            "|    89|\n",
            "|  83.5|\n",
            "|    78|\n",
            "|    58|\n",
            "|  53.5|\n",
            "+------+\n",
            "only showing top 20 rows\n",
            "\n"
          ]
        }
      ]
    },
    {
      "cell_type": "code",
      "source": [
        "df.select(f.col('Value')).show()"
      ],
      "metadata": {
        "colab": {
          "base_uri": "https://localhost:8080/"
        },
        "id": "A6xjDxbIjgJl",
        "outputId": "eb1447bc-ef0b-4351-ec0e-d693c48aaec6"
      },
      "execution_count": 16,
      "outputs": [
        {
          "output_type": "stream",
          "name": "stdout",
          "text": [
            "+-------+\n",
            "|  Value|\n",
            "+-------+\n",
            "|€110.5M|\n",
            "|   €77M|\n",
            "|€118.5M|\n",
            "|   €72M|\n",
            "|  €102M|\n",
            "|   €93M|\n",
            "|   €67M|\n",
            "|   €80M|\n",
            "|   €51M|\n",
            "|   €68M|\n",
            "|   €77M|\n",
            "| €76.5M|\n",
            "|   €44M|\n",
            "|   €60M|\n",
            "|   €63M|\n",
            "|   €89M|\n",
            "| €83.5M|\n",
            "|   €78M|\n",
            "|   €58M|\n",
            "| €53.5M|\n",
            "+-------+\n",
            "only showing top 20 rows\n",
            "\n"
          ]
        }
      ]
    },
    {
      "cell_type": "code",
      "source": [
        "df = df.withColumn(\"Values\", f.regexp_extract(\"value\", \"\\\\d+\", 0))   #this is actually not the right way as I noticed later that Value has M and K both\n",
        "\n",
        "\n",
        "#this is the correct way\n",
        "#df.withColumn(\"weight_num\", f.regexp_extract(\"weight\", \"\\\\d+\", 0))\n",
        "#  .withColumn(\"weight_unit\", f.regexp_extract(\"weight\", \"[a-z]+\", 0))\n",
        "#  .show"
      ],
      "metadata": {
        "id": "Avae3n_DkA63"
      },
      "execution_count": 17,
      "outputs": []
    },
    {
      "cell_type": "code",
      "source": [
        "df = df.withColumn(\"Wages\", f.regexp_extract(\"Wage\", \"\\\\d+\", 0))"
      ],
      "metadata": {
        "id": "ywrd9FStLqlI"
      },
      "execution_count": 18,
      "outputs": []
    },
    {
      "cell_type": "code",
      "source": [
        "df.show()"
      ],
      "metadata": {
        "colab": {
          "base_uri": "https://localhost:8080/"
        },
        "id": "FXS7lZgeMNqU",
        "outputId": "6a501943-9a27-4230-f6ee-9c274cad491c"
      },
      "execution_count": 19,
      "outputs": [
        {
          "output_type": "stream",
          "name": "stdout",
          "text": [
            "+-----+------+-----------------+---+-----------+-------+---------+-------------------+-------+-----+-------+--------------+------------------------+---------+-----------+--------------+----------+---------+--------+-------------+------------+-----------+--------------------+------+------+----+----+----+----+----+----+----+----+----+----+----+----+----+----+----+----+----+----+----+----+----+----+----+----+----+----+--------+---------+---------------+------------+-------+---------+-----+----------+-----------+-----------+------------+-----------+-------+---------+-------+---------+-------+-------+--------+---------+----------+-------------+-----------+------+---------+---------+-------+--------------+-------------+--------+----------+---------+-------------+----------+--------------+------+-----+\n",
            "|Index|    ID|             Name|Age|Nationality|Overall|Potential|               Club|  Value| Wage|Special|Preferred Foot|International Reputation|Weak Foot|Skill Moves|     Work Rate| Body Type|Real Face|Position|Jersey Number|      Joined|Loaned From|Contract Valid Until|Height|Weight|  LS|  ST|  RS|  LW|  LF|  CF|  RF|  RW| LAM| CAM| RAM|  LM| LCM|  CM| RCM|  RM| LWB| LDM| CDM| RDM| RWB|  LB| LCB|  CB| RCB|  RB|Crossing|Finishing|HeadingAccuracy|ShortPassing|Volleys|Dribbling|Curve|FKAccuracy|LongPassing|BallControl|Acceleration|SprintSpeed|Agility|Reactions|Balance|ShotPower|Jumping|Stamina|Strength|LongShots|Aggression|Interceptions|Positioning|Vision|Penalties|Composure|Marking|StandingTackle|SlidingTackle|GKDiving|GKHandling|GKKicking|GKPositioning|GKReflexes|Release Clause|Values|Wages|\n",
            "+-----+------+-----------------+---+-----------+-------+---------+-------------------+-------+-----+-------+--------------+------------------------+---------+-----------+--------------+----------+---------+--------+-------------+------------+-----------+--------------------+------+------+----+----+----+----+----+----+----+----+----+----+----+----+----+----+----+----+----+----+----+----+----+----+----+----+----+----+--------+---------+---------------+------------+-------+---------+-----+----------+-----------+-----------+------------+-----------+-------+---------+-------+---------+-------+-------+--------+---------+----------+-------------+-----------+------+---------+---------+-------+--------------+-------------+--------+----------+---------+-------------+----------+--------------+------+-----+\n",
            "|    0|158023|         L. Messi| 31|  Argentina|     94|       94|       FC Barcelona|€110.5M|€565K|   2202|          Left|                       5|        4|          4|Medium/ Medium|     Messi|      Yes|      RF|           10| Jul 1, 2004|       null|                2021|   5'7|159lbs|88+2|88+2|88+2|92+2|93+2|93+2|93+2|92+2|93+2|93+2|93+2|91+2|84+2|84+2|84+2|91+2|64+2|61+2|61+2|61+2|64+2|59+2|47+2|47+2|47+2|59+2|      84|       95|             70|          90|     86|       97|   93|        94|         87|         96|          91|         86|     91|       95|     95|       85|     68|     72|      59|       94|        48|           22|         94|    94|       75|       96|     33|            28|           26|       6|        11|       15|           14|         8|       €226.5M|   110|  565|\n",
            "|    1| 20801|Cristiano Ronaldo| 33|   Portugal|     94|       94|           Juventus|   €77M|€405K|   2228|         Right|                       5|        4|          5|     High/ Low|C. Ronaldo|      Yes|      ST|            7|Jul 10, 2018|       null|                2022|   6'2|183lbs|91+3|91+3|91+3|89+3|90+3|90+3|90+3|89+3|88+3|88+3|88+3|88+3|81+3|81+3|81+3|88+3|65+3|61+3|61+3|61+3|65+3|61+3|53+3|53+3|53+3|61+3|      84|       94|             89|          81|     87|       88|   81|        76|         77|         94|          89|         91|     87|       96|     70|       95|     95|     88|      79|       93|        63|           29|         95|    82|       85|       95|     28|            31|           23|       7|        11|       15|           14|        11|       €127.1M|    77|  405|\n",
            "|    2|190871|        Neymar Jr| 26|     Brazil|     92|       93|Paris Saint-Germain|€118.5M|€290K|   2143|         Right|                       5|        5|          5|  High/ Medium|    Neymar|      Yes|      LW|           10| Aug 3, 2017|       null|                2022|   5'9|150lbs|84+3|84+3|84+3|89+3|89+3|89+3|89+3|89+3|89+3|89+3|89+3|88+3|81+3|81+3|81+3|88+3|65+3|60+3|60+3|60+3|65+3|60+3|47+3|47+3|47+3|60+3|      79|       87|             62|          84|     84|       96|   88|        87|         78|         95|          94|         90|     96|       94|     84|       80|     61|     81|      49|       82|        56|           36|         89|    87|       81|       94|     27|            24|           33|       9|         9|       15|           15|        11|       €228.1M|   118|  290|\n",
            "|    3|193080|           De Gea| 27|      Spain|     91|       93|  Manchester United|   €72M|€260K|   1471|         Right|                       4|        3|          1|Medium/ Medium|      Lean|      Yes|      GK|            1| Jul 1, 2011|       null|                2020|   6'4|168lbs|null|null|null|null|null|null|null|null|null|null|null|null|null|null|null|null|null|null|null|null|null|null|null|null|null|null|      17|       13|             21|          50|     13|       18|   21|        19|         51|         42|          57|         58|     60|       90|     43|       31|     67|     43|      64|       12|        38|           30|         12|    68|       40|       68|     15|            21|           13|      90|        85|       87|           88|        94|       €138.6M|    72|  260|\n",
            "|    4|192985|     K. De Bruyne| 27|    Belgium|     91|       92|    Manchester City|  €102M|€355K|   2281|         Right|                       4|        5|          4|    High/ High|    Normal|      Yes|     RCM|            7|Aug 30, 2015|       null|                2023|  5'11|154lbs|82+3|82+3|82+3|87+3|87+3|87+3|87+3|87+3|88+3|88+3|88+3|88+3|87+3|87+3|87+3|88+3|77+3|77+3|77+3|77+3|77+3|73+3|66+3|66+3|66+3|73+3|      93|       82|             55|          92|     82|       86|   85|        83|         91|         91|          78|         76|     79|       91|     77|       91|     63|     90|      75|       91|        76|           61|         87|    94|       79|       88|     68|            58|           51|      15|        13|        5|           10|        13|       €196.4M|   102|  355|\n",
            "|    5|183277|        E. Hazard| 27|    Belgium|     91|       91|            Chelsea|   €93M|€340K|   2142|         Right|                       4|        4|          4|  High/ Medium|    Normal|      Yes|      LF|           10| Jul 1, 2012|       null|                2020|   5'8|163lbs|83+3|83+3|83+3|89+3|88+3|88+3|88+3|89+3|89+3|89+3|89+3|89+3|82+3|82+3|82+3|89+3|66+3|63+3|63+3|63+3|66+3|60+3|49+3|49+3|49+3|60+3|      81|       84|             61|          89|     80|       95|   83|        79|         83|         94|          94|         88|     95|       90|     94|       82|     56|     83|      66|       80|        54|           41|         87|    89|       86|       91|     34|            27|           22|      11|        12|        6|            8|         8|       €172.1M|    93|  340|\n",
            "|    6|177003|        L. Modrić| 32|    Croatia|     91|       91|        Real Madrid|   €67M|€420K|   2280|         Right|                       4|        4|          4|    High/ High|      Lean|      Yes|     RCM|           10| Aug 1, 2012|       null|                2020|   5'8|146lbs|77+3|77+3|77+3|85+3|84+3|84+3|84+3|85+3|87+3|87+3|87+3|86+3|88+3|88+3|88+3|86+3|82+3|81+3|81+3|81+3|82+3|79+3|71+3|71+3|71+3|79+3|      86|       72|             55|          93|     76|       90|   85|        78|         88|         93|          80|         72|     93|       90|     94|       79|     68|     89|      58|       82|        62|           83|         79|    92|       82|       84|     60|            76|           73|      13|         9|        7|           14|         9|       €137.4M|    67|  420|\n",
            "|    7|176580|        L. Suárez| 31|    Uruguay|     91|       91|       FC Barcelona|   €80M|€455K|   2346|         Right|                       5|        4|          3|  High/ Medium|    Normal|      Yes|      RS|            9|Jul 11, 2014|       null|                2021|   6'0|190lbs|87+5|87+5|87+5|86+5|87+5|87+5|87+5|86+5|85+5|85+5|85+5|84+5|79+5|79+5|79+5|84+5|69+5|68+5|68+5|68+5|69+5|66+5|63+5|63+5|63+5|66+5|      77|       93|             77|          82|     88|       87|   86|        84|         64|         90|          86|         75|     82|       92|     83|       86|     69|     90|      83|       85|        87|           41|         92|    84|       85|       85|     62|            45|           38|      27|        25|       31|           33|        37|         €164M|    80|  455|\n",
            "|    8|155862|     Sergio Ramos| 32|      Spain|     91|       91|        Real Madrid|   €51M|€380K|   2201|         Right|                       4|        3|          3|  High/ Medium|    Normal|      Yes|     RCB|           15| Aug 1, 2005|       null|                2020|   6'0|181lbs|73+3|73+3|73+3|70+3|71+3|71+3|71+3|70+3|71+3|71+3|71+3|72+3|75+3|75+3|75+3|72+3|81+3|84+3|84+3|84+3|81+3|84+3|87+3|87+3|87+3|84+3|      66|       60|             91|          78|     66|       63|   74|        72|         77|         84|          76|         75|     78|       85|     66|       79|     93|     84|      83|       59|        88|           90|         60|    63|       75|       82|     87|            92|           91|      11|         8|        9|            7|        11|       €104.6M|    51|  380|\n",
            "|    9|200389|         J. Oblak| 25|   Slovenia|     90|       93|    Atlético Madrid|   €68M| €94K|   1331|         Right|                       3|        3|          1|Medium/ Medium|    Normal|      Yes|      GK|            1|Jul 16, 2014|       null|                2021|   6'2|192lbs|null|null|null|null|null|null|null|null|null|null|null|null|null|null|null|null|null|null|null|null|null|null|null|null|null|null|      13|       11|             15|          29|     13|       12|   13|        14|         26|         16|          43|         60|     67|       86|     49|       22|     76|     41|      78|       12|        34|           19|         11|    70|       11|       70|     27|            12|           18|      86|        92|       78|           88|        89|       €144.5M|    68|   94|\n",
            "|   10|188545|   R. Lewandowski| 29|     Poland|     90|       90|  FC Bayern München|   €77M|€205K|   2152|         Right|                       4|        4|          4|  High/ Medium|    Normal|      Yes|      ST|            9| Jul 1, 2014|       null|                2021|   6'0|176lbs|87+3|87+3|87+3|83+3|86+3|86+3|86+3|83+3|83+3|83+3|83+3|81+3|77+3|77+3|77+3|81+3|61+3|62+3|62+3|62+3|61+3|58+3|57+3|57+3|57+3|58+3|      62|       91|             85|          83|     89|       85|   77|        86|         65|         89|          77|         78|     78|       90|     78|       88|     84|     78|      84|       84|        80|           39|         91|    77|       88|       86|     34|            42|           19|      15|         6|       12|            8|        10|       €127.1M|    77|  205|\n",
            "|   11|182521|         T. Kroos| 28|    Germany|     90|       90|        Real Madrid| €76.5M|€355K|   2190|         Right|                       4|        5|          3|Medium/ Medium|    Normal|      Yes|     LCM|            8|Jul 17, 2014|       null|                2022|   6'0|168lbs|78+3|78+3|78+3|81+3|82+3|82+3|82+3|81+3|84+3|84+3|84+3|82+3|86+3|86+3|86+3|82+3|79+3|82+3|82+3|82+3|79+3|77+3|72+3|72+3|72+3|77+3|      88|       76|             54|          92|     82|       81|   86|        84|         93|         90|          64|         62|     70|       89|     71|       87|     30|     75|      73|       92|        60|           82|         79|    86|       73|       85|     72|            79|           69|      10|        11|       13|            7|        10|       €156.8M|    76|  355|\n",
            "|   12|182493|         D. Godín| 32|    Uruguay|     90|       90|    Atlético Madrid|   €44M|€125K|   1946|         Right|                       3|        3|          2|  Medium/ High|      Lean|      Yes|      CB|           10| Aug 4, 2010|       null|                2019|   6'2|172lbs|64+3|64+3|64+3|61+3|62+3|62+3|62+3|61+3|62+3|62+3|62+3|63+3|68+3|68+3|68+3|63+3|76+3|81+3|81+3|81+3|76+3|79+3|87+3|87+3|87+3|79+3|      55|       42|             92|          79|     47|       53|   49|        51|         70|         76|          68|         68|     58|       85|     54|       67|     91|     66|      88|       43|        89|           88|         48|    52|       50|       82|     90|            89|           89|       6|         8|       15|            5|        15|        €90.2M|    44|  125|\n",
            "|   13|168542|      David Silva| 32|      Spain|     90|       90|    Manchester City|   €60M|€285K|   2115|          Left|                       4|        2|          4|  High/ Medium|    Normal|      Yes|     LCM|           21|Jul 14, 2010|       null|                2020|   5'8|148lbs|77+3|77+3|77+3|85+3|84+3|84+3|84+3|85+3|87+3|87+3|87+3|85+3|85+3|85+3|85+3|85+3|69+3|70+3|70+3|70+3|69+3|64+3|57+3|57+3|57+3|64+3|      84|       76|             54|          93|     82|       89|   82|        77|         87|         94|          70|         64|     92|       90|     90|       72|     64|     78|      52|       75|        57|           50|         89|    92|       75|       93|     59|            53|           29|       6|        15|        7|            6|        12|         €111M|    60|  285|\n",
            "|   14|215914|         N. Kanté| 27|     France|     89|       90|            Chelsea|   €63M|€225K|   2189|         Right|                       3|        3|          2|  Medium/ High|      Lean|      Yes|     LDM|           13|Jul 16, 2016|       null|                2023|   5'6|159lbs|72+3|72+3|72+3|77+3|77+3|77+3|77+3|77+3|79+3|79+3|79+3|79+3|82+3|82+3|82+3|79+3|85+3|87+3|87+3|87+3|85+3|84+3|83+3|83+3|83+3|84+3|      68|       65|             54|          86|     56|       79|   49|        49|         81|         80|          82|         78|     82|       93|     92|       71|     77|     96|      76|       69|        90|           92|         71|    79|       54|       85|     90|            91|           85|      15|        12|       10|            7|        10|       €121.3M|    63|  225|\n",
            "|   15|211110|        P. Dybala| 24|  Argentina|     89|       94|           Juventus|   €89M|€205K|   2092|          Left|                       3|        3|          4|  High/ Medium|    Normal|      Yes|      LF|           21| Jul 1, 2015|       null|                2022|  5'10|165lbs|83+3|83+3|83+3|87+3|86+3|86+3|86+3|87+3|87+3|87+3|87+3|86+3|79+3|79+3|79+3|86+3|62+3|58+3|58+3|58+3|62+3|56+3|45+3|45+3|45+3|56+3|      82|       84|             68|          87|     88|       92|   88|        88|         75|         92|          87|         83|     91|       86|     85|       82|     75|     80|      65|       88|        48|           32|         84|    87|       86|       84|     23|            20|           20|       5|         4|        4|            5|         8|       €153.5M|    89|  205|\n",
            "|   16|202126|          H. Kane| 24|    England|     89|       91|  Tottenham Hotspur| €83.5M|€205K|   2165|         Right|                       3|        4|          3|    High/ High|    Normal|      Yes|      ST|            9| Jul 1, 2010|       null|                2024|   6'2|196lbs|86+3|86+3|86+3|82+3|84+3|84+3|84+3|82+3|82+3|82+3|82+3|81+3|79+3|79+3|79+3|81+3|65+3|66+3|66+3|66+3|65+3|62+3|60+3|60+3|60+3|62+3|      75|       94|             85|          80|     84|       80|   78|        68|         82|         84|          68|         72|     71|       91|     71|       88|     78|     89|      84|       85|        76|           35|         93|    80|       90|       89|     56|            36|           38|       8|        10|       11|           14|        11|       €160.7M|    83|  205|\n",
            "|   17|194765|     A. Griezmann| 27|     France|     89|       90|    Atlético Madrid|   €78M|€145K|   2246|          Left|                       4|        3|          4|    High/ High|      Lean|      Yes|     CAM|            7|Jul 28, 2014|       null|                2023|   5'9|161lbs|86+3|86+3|86+3|87+3|87+3|87+3|87+3|87+3|86+3|86+3|86+3|86+3|80+3|80+3|80+3|86+3|70+3|67+3|67+3|67+3|70+3|67+3|61+3|61+3|61+3|67+3|      82|       90|             84|          83|     87|       88|   84|        78|         76|         90|          88|         85|     90|       90|     80|       80|     90|     83|      62|       82|        69|           35|         91|    83|       79|       87|     59|            47|           48|      14|         8|       14|           13|        14|       €165.8M|    78|  145|\n",
            "|   18|192448|    M. ter Stegen| 26|    Germany|     89|       92|       FC Barcelona|   €58M|€240K|   1328|         Right|                       3|        4|          1|Medium/ Medium|    Normal|      Yes|      GK|           22| Jul 1, 2014|       null|                2022|   6'2|187lbs|null|null|null|null|null|null|null|null|null|null|null|null|null|null|null|null|null|null|null|null|null|null|null|null|null|null|      15|       14|             11|          36|     14|       17|   18|        12|         42|         18|          38|         50|     37|       85|     43|       22|     79|     35|      79|       10|        43|           22|         11|    69|       25|       69|     25|            13|           10|      87|        85|       88|           85|        90|       €123.3M|    58|  240|\n",
            "|   19|192119|      T. Courtois| 26|    Belgium|     89|       90|        Real Madrid| €53.5M|€240K|   1311|          Left|                       4|        2|          1|Medium/ Medium|  Courtois|      Yes|      GK|            1| Aug 9, 2018|       null|                2024|   6'6|212lbs|null|null|null|null|null|null|null|null|null|null|null|null|null|null|null|null|null|null|null|null|null|null|null|null|null|null|      14|       14|             13|          33|     12|       13|   19|        20|         35|         23|          46|         52|     61|       84|     45|       36|     68|     38|      70|       17|        23|           15|         13|    44|       27|       66|     20|            18|           16|      85|        91|       72|           86|        88|       €113.7M|    53|  240|\n",
            "+-----+------+-----------------+---+-----------+-------+---------+-------------------+-------+-----+-------+--------------+------------------------+---------+-----------+--------------+----------+---------+--------+-------------+------------+-----------+--------------------+------+------+----+----+----+----+----+----+----+----+----+----+----+----+----+----+----+----+----+----+----+----+----+----+----+----+----+----+--------+---------+---------------+------------+-------+---------+-----+----------+-----------+-----------+------------+-----------+-------+---------+-------+---------+-------+-------+--------+---------+----------+-------------+-----------+------+---------+---------+-------+--------------+-------------+--------+----------+---------+-------------+----------+--------------+------+-----+\n",
            "only showing top 20 rows\n",
            "\n"
          ]
        }
      ]
    },
    {
      "cell_type": "code",
      "source": [
        "df=df.drop('Value','Wage')"
      ],
      "metadata": {
        "id": "7dVaBcKBMT_i"
      },
      "execution_count": 20,
      "outputs": []
    },
    {
      "cell_type": "code",
      "source": [
        "dff=df.select('ID','Age','Overall','Potential','Club','Values','Wages','Preferred Foot')"
      ],
      "metadata": {
        "id": "lqijX_SMMegS"
      },
      "execution_count": 21,
      "outputs": []
    },
    {
      "cell_type": "code",
      "source": [
        "dff.show()"
      ],
      "metadata": {
        "colab": {
          "base_uri": "https://localhost:8080/"
        },
        "id": "zxIpDOR7e77c",
        "outputId": "c721ac7b-759a-4078-be5a-d00e0a1a8999"
      },
      "execution_count": 22,
      "outputs": [
        {
          "output_type": "stream",
          "name": "stdout",
          "text": [
            "+------+---+-------+---------+-------------------+------+-----+--------------+\n",
            "|    ID|Age|Overall|Potential|               Club|Values|Wages|Preferred Foot|\n",
            "+------+---+-------+---------+-------------------+------+-----+--------------+\n",
            "|158023| 31|     94|       94|       FC Barcelona|   110|  565|          Left|\n",
            "| 20801| 33|     94|       94|           Juventus|    77|  405|         Right|\n",
            "|190871| 26|     92|       93|Paris Saint-Germain|   118|  290|         Right|\n",
            "|193080| 27|     91|       93|  Manchester United|    72|  260|         Right|\n",
            "|192985| 27|     91|       92|    Manchester City|   102|  355|         Right|\n",
            "|183277| 27|     91|       91|            Chelsea|    93|  340|         Right|\n",
            "|177003| 32|     91|       91|        Real Madrid|    67|  420|         Right|\n",
            "|176580| 31|     91|       91|       FC Barcelona|    80|  455|         Right|\n",
            "|155862| 32|     91|       91|        Real Madrid|    51|  380|         Right|\n",
            "|200389| 25|     90|       93|    Atlético Madrid|    68|   94|         Right|\n",
            "|188545| 29|     90|       90|  FC Bayern München|    77|  205|         Right|\n",
            "|182521| 28|     90|       90|        Real Madrid|    76|  355|         Right|\n",
            "|182493| 32|     90|       90|    Atlético Madrid|    44|  125|         Right|\n",
            "|168542| 32|     90|       90|    Manchester City|    60|  285|          Left|\n",
            "|215914| 27|     89|       90|            Chelsea|    63|  225|         Right|\n",
            "|211110| 24|     89|       94|           Juventus|    89|  205|          Left|\n",
            "|202126| 24|     89|       91|  Tottenham Hotspur|    83|  205|         Right|\n",
            "|194765| 27|     89|       90|    Atlético Madrid|    78|  145|          Left|\n",
            "|192448| 26|     89|       92|       FC Barcelona|    58|  240|         Right|\n",
            "|192119| 26|     89|       90|        Real Madrid|    53|  240|          Left|\n",
            "+------+---+-------+---------+-------------------+------+-----+--------------+\n",
            "only showing top 20 rows\n",
            "\n"
          ]
        }
      ]
    },
    {
      "cell_type": "code",
      "source": [
        "dff.select([f.count(f.when(f.isnull(c), c)).alias(c) for c in dff.columns]).show()"
      ],
      "metadata": {
        "colab": {
          "base_uri": "https://localhost:8080/"
        },
        "id": "tpUROlU-f7mG",
        "outputId": "b8b26798-1307-4efd-b7f8-59c6210abcc0"
      },
      "execution_count": 23,
      "outputs": [
        {
          "output_type": "stream",
          "name": "stdout",
          "text": [
            "+---+---+-------+---------+----+------+-----+--------------+\n",
            "| ID|Age|Overall|Potential|Club|Values|Wages|Preferred Foot|\n",
            "+---+---+-------+---------+----+------+-----+--------------+\n",
            "|  0|  0|      0|        0| 241|     0|    0|            48|\n",
            "+---+---+-------+---------+----+------+-----+--------------+\n",
            "\n"
          ]
        }
      ]
    },
    {
      "cell_type": "markdown",
      "source": [
        "handling missing values https://www.youtube.com/watch?v=pOMXkbc06m4&list=PLZoTAELRMXVNjiiawhzZ0afHcPvC8jpcg&index=3&t=183s"
      ],
      "metadata": {
        "id": "OEfF7Dt_mbqq"
      }
    },
    {
      "cell_type": "markdown",
      "source": [
        "Filtering"
      ],
      "metadata": {
        "id": "-FPQWS7aphZa"
      }
    },
    {
      "cell_type": "code",
      "source": [
        "dff.filter('Age<=20').show()"
      ],
      "metadata": {
        "colab": {
          "base_uri": "https://localhost:8080/"
        },
        "id": "O3KKksR0iVNF",
        "outputId": "b52a976a-a814-4dfe-fd43-394fd739ce79"
      },
      "execution_count": 24,
      "outputs": [
        {
          "output_type": "stream",
          "name": "stdout",
          "text": [
            "+------+---+-------+---------+-------------------+------+-----+--------------+\n",
            "|    ID|Age|Overall|Potential|               Club|Values|Wages|Preferred Foot|\n",
            "+------+---+-------+---------+-------------------+------+-----+--------------+\n",
            "|231747| 19|     88|       95|Paris Saint-Germain|    81|  100|         Right|\n",
            "|235243| 18|     82|       91|               Ajax|    27|   11|         Right|\n",
            "|230621| 19|     82|       93|              Milan|    29|   23|         Right|\n",
            "|231677| 20|     81|       89|  Manchester United|    27|  110|         Right|\n",
            "|229906| 20|     81|       89|Bayer 04 Leverkusen|    26|   54|          Left|\n",
            "|235790| 19|     80|       89|Bayer 04 Leverkusen|    22|   32|          Left|\n",
            "|234906| 20|     80|       90| Olympique Lyonnais|    23|   51|         Right|\n",
            "|244369| 20|     79|       86|        Dynamo Kyiv|    18|    1|          Left|\n",
            "|231478| 20|     79|       86|              Inter|    18|   54|         Right|\n",
            "|227796| 19|     79|       87|  Borussia Dortmund|    18|   26|         Right|\n",
            "|225953| 20|     79|       86|                PSV|    18|   17|         Right|\n",
            "|240130| 20|     78|       87|           FC Porto|    14|   10|         Right|\n",
            "|235805| 20|     78|       87|         Fiorentina|    16|   46|         Right|\n",
            "|235212| 19|     78|       86|  Borussia Dortmund|    12|   49|         Right|\n",
            "|232432| 20|     78|       86|Eintracht Frankfurt|    15|   12|         Right|\n",
            "|231691| 19|     78|       90|         Fiorentina|    14|   12|         Right|\n",
            "|231281| 19|     78|       88|          Liverpool|    14|   36|         Right|\n",
            "|221342| 20|     78|       86|      VfB Stuttgart|    13|   24|         Right|\n",
            "|233049| 18|     77|       89|  Borussia Dortmund|    14|   22|         Right|\n",
            "|235889| 20|     77|       87|               Roma|    14|   46|          Left|\n",
            "+------+---+-------+---------+-------------------+------+-----+--------------+\n",
            "only showing top 20 rows\n",
            "\n"
          ]
        }
      ]
    },
    {
      "cell_type": "code",
      "source": [
        "dff.filter(dff['Preferred FOot'] == 'Right').select(['Potential','Values']).show()"
      ],
      "metadata": {
        "colab": {
          "base_uri": "https://localhost:8080/"
        },
        "id": "hRb0w13woC6p",
        "outputId": "ad33f95a-4c5e-496d-fe14-68fc27b60599"
      },
      "execution_count": 25,
      "outputs": [
        {
          "output_type": "stream",
          "name": "stdout",
          "text": [
            "+---------+------+\n",
            "|Potential|Values|\n",
            "+---------+------+\n",
            "|       94|    77|\n",
            "|       93|   118|\n",
            "|       93|    72|\n",
            "|       92|   102|\n",
            "|       91|    93|\n",
            "|       91|    67|\n",
            "|       91|    80|\n",
            "|       91|    51|\n",
            "|       93|    68|\n",
            "|       90|    77|\n",
            "|       90|    76|\n",
            "|       90|    44|\n",
            "|       90|    63|\n",
            "|       91|    83|\n",
            "|       92|    58|\n",
            "|       89|    51|\n",
            "|       89|    60|\n",
            "|       89|    38|\n",
            "|       89|    64|\n",
            "|       95|    81|\n",
            "+---------+------+\n",
            "only showing top 20 rows\n",
            "\n"
          ]
        }
      ]
    },
    {
      "cell_type": "code",
      "source": [
        "dff.filter((dff['Age']>30) & (dff['Club']=='Manchester United')).show()     #for OR use |"
      ],
      "metadata": {
        "colab": {
          "base_uri": "https://localhost:8080/"
        },
        "id": "enxiflxLohXP",
        "outputId": "b547ef38-9c00-426c-85df-f632a9bba366"
      },
      "execution_count": 26,
      "outputs": [
        {
          "output_type": "stream",
          "name": "stdout",
          "text": [
            "+------+---+-------+---------+-----------------+------+-----+--------------+\n",
            "|    ID|Age|Overall|Potential|             Club|Values|Wages|Preferred Foot|\n",
            "+------+---+-------+---------+-----------------+------+-----+--------------+\n",
            "|167905| 32|     81|       81|Manchester United|    10|  120|         Right|\n",
            "|173373| 31|     80|       80|Manchester United|     9|   91|         Right|\n",
            "|152908| 32|     79|       79|Manchester United|     7|  110|         Right|\n",
            "| 53739| 35|     74|       74|Manchester United|     1|   39|         Right|\n",
            "+------+---+-------+---------+-----------------+------+-----+--------------+\n",
            "\n"
          ]
        }
      ]
    },
    {
      "cell_type": "code",
      "source": [
        "dff.groupBy(\"Club\").sum(\"Potential\").show()    #sum of potential according to club"
      ],
      "metadata": {
        "colab": {
          "base_uri": "https://localhost:8080/"
        },
        "id": "M5adNaBVpbDp",
        "outputId": "c75cbb4c-d9fe-4840-e567-952aee728974"
      },
      "execution_count": 27,
      "outputs": [
        {
          "output_type": "stream",
          "name": "stdout",
          "text": [
            "+--------------------+--------------+\n",
            "|                Club|sum(Potential)|\n",
            "+--------------------+--------------+\n",
            "|             Palermo|          2227|\n",
            "|          Göztepe SK|          2013|\n",
            "|CD Everton de Viñ...|          1878|\n",
            "|     Shonan Bellmare|          1944|\n",
            "|         Yeovil Town|          1856|\n",
            "|          Sagan Tosu|          2002|\n",
            "|  1. FC Union Berlin|          2054|\n",
            "|               Carpi|          2058|\n",
            "|           Puebla FC|          2067|\n",
            "|  Argentinos Juniors|          2019|\n",
            "|     SC Paderborn 07|          2090|\n",
            "|       Karlsruher SC|          1915|\n",
            "|     Cheltenham Town|          1559|\n",
            "|         SC Freiburg|          2239|\n",
            "|San Lorenzo de Al...|          2120|\n",
            "|  SpVgg Unterhaching|          1738|\n",
            "|Universidad Católica|          2043|\n",
            "|         GFC Ajaccio|          1551|\n",
            "|           FC Luzern|          1923|\n",
            "|                 AIK|          1880|\n",
            "+--------------------+--------------+\n",
            "only showing top 20 rows\n",
            "\n"
          ]
        }
      ]
    },
    {
      "cell_type": "code",
      "source": [
        "dff.groupBy('Club').max('Potential').show()   #max potential score for each club"
      ],
      "metadata": {
        "colab": {
          "base_uri": "https://localhost:8080/"
        },
        "id": "IY-xRJpOfaB_",
        "outputId": "6e06dd1b-722b-4864-f3f0-6e07f20b713a"
      },
      "execution_count": 28,
      "outputs": [
        {
          "output_type": "stream",
          "name": "stdout",
          "text": [
            "+--------------------+--------------+\n",
            "|                Club|max(Potential)|\n",
            "+--------------------+--------------+\n",
            "|             Palermo|            81|\n",
            "|          Göztepe SK|            77|\n",
            "|CD Everton de Viñ...|            79|\n",
            "|     Shonan Bellmare|            72|\n",
            "|         Yeovil Town|            73|\n",
            "|          Sagan Tosu|            80|\n",
            "|  1. FC Union Berlin|            79|\n",
            "|               Carpi|            80|\n",
            "|           Puebla FC|            80|\n",
            "|  Argentinos Juniors|            84|\n",
            "|     SC Paderborn 07|            77|\n",
            "|       Karlsruher SC|            74|\n",
            "|     Cheltenham Town|            77|\n",
            "|         SC Freiburg|            80|\n",
            "|San Lorenzo de Al...|            82|\n",
            "|  SpVgg Unterhaching|            74|\n",
            "|Universidad Católica|            81|\n",
            "|         GFC Ajaccio|            75|\n",
            "|           FC Luzern|            82|\n",
            "|                 AIK|            79|\n",
            "+--------------------+--------------+\n",
            "only showing top 20 rows\n",
            "\n"
          ]
        }
      ]
    },
    {
      "cell_type": "code",
      "source": [
        "dff.groupBy(\"Club\").mean(\"Overall\").show()"
      ],
      "metadata": {
        "colab": {
          "base_uri": "https://localhost:8080/"
        },
        "id": "btG8bYmG2MCW",
        "outputId": "427d1c7f-e5fc-4282-d6fd-47bf5e7f8360"
      },
      "execution_count": 29,
      "outputs": [
        {
          "output_type": "stream",
          "name": "stdout",
          "text": [
            "+--------------------+------------------+\n",
            "|                Club|      avg(Overall)|\n",
            "+--------------------+------------------+\n",
            "|             Palermo| 67.96666666666667|\n",
            "|          Göztepe SK| 68.42857142857143|\n",
            "|CD Everton de Viñ...|63.666666666666664|\n",
            "|     Shonan Bellmare|              60.6|\n",
            "|         Yeovil Town|60.357142857142854|\n",
            "|          Sagan Tosu| 64.23333333333333|\n",
            "|  1. FC Union Berlin| 68.32142857142857|\n",
            "|               Carpi|63.666666666666664|\n",
            "|           Puebla FC| 65.23333333333333|\n",
            "|  Argentinos Juniors| 64.64285714285714|\n",
            "|     SC Paderborn 07|63.733333333333334|\n",
            "|       Karlsruher SC|             63.25|\n",
            "|     Cheltenham Town|60.333333333333336|\n",
            "|         SC Freiburg|              70.2|\n",
            "|San Lorenzo de Al...| 68.96428571428571|\n",
            "|  SpVgg Unterhaching| 61.38461538461539|\n",
            "|Universidad Católica| 66.21428571428571|\n",
            "|         GFC Ajaccio| 62.56521739130435|\n",
            "|           FC Luzern|63.666666666666664|\n",
            "|                 AIK| 65.07407407407408|\n",
            "+--------------------+------------------+\n",
            "only showing top 20 rows\n",
            "\n"
          ]
        }
      ]
    },
    {
      "cell_type": "code",
      "source": [
        "dff.groupBy(\"Club\").count().filter('count>30').show()"
      ],
      "metadata": {
        "colab": {
          "base_uri": "https://localhost:8080/"
        },
        "id": "wzUR5BMu2ga1",
        "outputId": "35ab3f74-e046-4d2f-a73c-041d3bf47484"
      },
      "execution_count": 30,
      "outputs": [
        {
          "output_type": "stream",
          "name": "stdout",
          "text": [
            "+------------------+-----+\n",
            "|              Club|count|\n",
            "+------------------+-----+\n",
            "| Manchester United|   33|\n",
            "|      Cardiff City|   33|\n",
            "|       FC Augsburg|   31|\n",
            "|           Arsenal|   33|\n",
            "|             Lazio|   32|\n",
            "|              null|  241|\n",
            "|  Newcastle United|   33|\n",
            "|  SV Werder Bremen|   32|\n",
            "|    Crystal Palace|   32|\n",
            "|       Real Madrid|   33|\n",
            "|           Burnley|   33|\n",
            "|        Levante UD|   32|\n",
            "|   Manchester City|   33|\n",
            "|       Bournemouth|   32|\n",
            "|   1. FSV Mainz 05|   32|\n",
            "|            Fulham|   32|\n",
            "|   Atlético Madrid|   33|\n",
            "|      FC Barcelona|   33|\n",
            "|        Hertha BSC|   32|\n",
            "|Fortuna Düsseldorf|   33|\n",
            "+------------------+-----+\n",
            "only showing top 20 rows\n",
            "\n"
          ]
        }
      ]
    },
    {
      "cell_type": "code",
      "source": [
        "dff.agg({'Wages':'sum'}).show()   #overall salary expenditure"
      ],
      "metadata": {
        "colab": {
          "base_uri": "https://localhost:8080/"
        },
        "id": "d3ovQIfS3ANh",
        "outputId": "9c04579a-d365-4c4b-92c7-c7c1c16f5406"
      },
      "execution_count": 31,
      "outputs": [
        {
          "output_type": "stream",
          "name": "stdout",
          "text": [
            "+----------+\n",
            "|sum(Wages)|\n",
            "+----------+\n",
            "|  177178.0|\n",
            "+----------+\n",
            "\n"
          ]
        }
      ]
    },
    {
      "cell_type": "code",
      "source": [
        "from pyspark.sql.types import IntegerType\n",
        "dff = dff.withColumn('Wages', dff['Wages'].cast(IntegerType()))\n",
        "dff.show()"
      ],
      "metadata": {
        "colab": {
          "base_uri": "https://localhost:8080/"
        },
        "id": "3l49GFW-4fsa",
        "outputId": "cd6e6b6f-9693-4cd4-c5b5-b178cb3ed837"
      },
      "execution_count": 40,
      "outputs": [
        {
          "output_type": "stream",
          "name": "stdout",
          "text": [
            "+------+---+-------+---------+-------------------+------+-----+--------------+\n",
            "|    ID|Age|Overall|Potential|               Club|Values|Wages|Preferred Foot|\n",
            "+------+---+-------+---------+-------------------+------+-----+--------------+\n",
            "|158023| 31|     94|       94|       FC Barcelona|   110|  565|          Left|\n",
            "| 20801| 33|     94|       94|           Juventus|    77|  405|         Right|\n",
            "|190871| 26|     92|       93|Paris Saint-Germain|   118|  290|         Right|\n",
            "|193080| 27|     91|       93|  Manchester United|    72|  260|         Right|\n",
            "|192985| 27|     91|       92|    Manchester City|   102|  355|         Right|\n",
            "|183277| 27|     91|       91|            Chelsea|    93|  340|         Right|\n",
            "|177003| 32|     91|       91|        Real Madrid|    67|  420|         Right|\n",
            "|176580| 31|     91|       91|       FC Barcelona|    80|  455|         Right|\n",
            "|155862| 32|     91|       91|        Real Madrid|    51|  380|         Right|\n",
            "|200389| 25|     90|       93|    Atlético Madrid|    68|   94|         Right|\n",
            "|188545| 29|     90|       90|  FC Bayern München|    77|  205|         Right|\n",
            "|182521| 28|     90|       90|        Real Madrid|    76|  355|         Right|\n",
            "|182493| 32|     90|       90|    Atlético Madrid|    44|  125|         Right|\n",
            "|168542| 32|     90|       90|    Manchester City|    60|  285|          Left|\n",
            "|215914| 27|     89|       90|            Chelsea|    63|  225|         Right|\n",
            "|211110| 24|     89|       94|           Juventus|    89|  205|          Left|\n",
            "|202126| 24|     89|       91|  Tottenham Hotspur|    83|  205|         Right|\n",
            "|194765| 27|     89|       90|    Atlético Madrid|    78|  145|          Left|\n",
            "|192448| 26|     89|       92|       FC Barcelona|    58|  240|         Right|\n",
            "|192119| 26|     89|       90|        Real Madrid|    53|  240|          Left|\n",
            "+------+---+-------+---------+-------------------+------+-----+--------------+\n",
            "only showing top 20 rows\n",
            "\n"
          ]
        }
      ]
    },
    {
      "cell_type": "code",
      "source": [
        "dff = dff.withColumn('Age', dff['Age'].cast(IntegerType()))\n",
        "dff = dff.withColumn('Overall', dff['Overall'].cast(IntegerType()))"
      ],
      "metadata": {
        "id": "cIDIMrZH4_cH"
      },
      "execution_count": 41,
      "outputs": []
    },
    {
      "cell_type": "code",
      "source": [
        "from pyspark.ml.feature import VectorAssembler"
      ],
      "metadata": {
        "id": "qRl6OFCu30DB"
      },
      "execution_count": 32,
      "outputs": []
    },
    {
      "cell_type": "code",
      "source": [
        "featureassembler = VectorAssembler(inputCols=['Age','Overall'], outputCol= 'Ind features')"
      ],
      "metadata": {
        "id": "iZdkL4pb1o0A"
      },
      "execution_count": 42,
      "outputs": []
    },
    {
      "cell_type": "code",
      "source": [
        "output = featureassembler.transform(dff)"
      ],
      "metadata": {
        "id": "L72yFPlY2KE-"
      },
      "execution_count": 43,
      "outputs": []
    },
    {
      "cell_type": "code",
      "source": [
        "output.show()"
      ],
      "metadata": {
        "colab": {
          "base_uri": "https://localhost:8080/"
        },
        "id": "L05dMRol2XRk",
        "outputId": "5f75b222-cc13-4cc9-9d1a-e8433cffb6d8"
      },
      "execution_count": 44,
      "outputs": [
        {
          "output_type": "stream",
          "name": "stdout",
          "text": [
            "+------+---+-------+---------+-------------------+------+-----+--------------+------------+\n",
            "|    ID|Age|Overall|Potential|               Club|Values|Wages|Preferred Foot|Ind features|\n",
            "+------+---+-------+---------+-------------------+------+-----+--------------+------------+\n",
            "|158023| 31|     94|       94|       FC Barcelona|   110|  565|          Left| [31.0,94.0]|\n",
            "| 20801| 33|     94|       94|           Juventus|    77|  405|         Right| [33.0,94.0]|\n",
            "|190871| 26|     92|       93|Paris Saint-Germain|   118|  290|         Right| [26.0,92.0]|\n",
            "|193080| 27|     91|       93|  Manchester United|    72|  260|         Right| [27.0,91.0]|\n",
            "|192985| 27|     91|       92|    Manchester City|   102|  355|         Right| [27.0,91.0]|\n",
            "|183277| 27|     91|       91|            Chelsea|    93|  340|         Right| [27.0,91.0]|\n",
            "|177003| 32|     91|       91|        Real Madrid|    67|  420|         Right| [32.0,91.0]|\n",
            "|176580| 31|     91|       91|       FC Barcelona|    80|  455|         Right| [31.0,91.0]|\n",
            "|155862| 32|     91|       91|        Real Madrid|    51|  380|         Right| [32.0,91.0]|\n",
            "|200389| 25|     90|       93|    Atlético Madrid|    68|   94|         Right| [25.0,90.0]|\n",
            "|188545| 29|     90|       90|  FC Bayern München|    77|  205|         Right| [29.0,90.0]|\n",
            "|182521| 28|     90|       90|        Real Madrid|    76|  355|         Right| [28.0,90.0]|\n",
            "|182493| 32|     90|       90|    Atlético Madrid|    44|  125|         Right| [32.0,90.0]|\n",
            "|168542| 32|     90|       90|    Manchester City|    60|  285|          Left| [32.0,90.0]|\n",
            "|215914| 27|     89|       90|            Chelsea|    63|  225|         Right| [27.0,89.0]|\n",
            "|211110| 24|     89|       94|           Juventus|    89|  205|          Left| [24.0,89.0]|\n",
            "|202126| 24|     89|       91|  Tottenham Hotspur|    83|  205|         Right| [24.0,89.0]|\n",
            "|194765| 27|     89|       90|    Atlético Madrid|    78|  145|          Left| [27.0,89.0]|\n",
            "|192448| 26|     89|       92|       FC Barcelona|    58|  240|         Right| [26.0,89.0]|\n",
            "|192119| 26|     89|       90|        Real Madrid|    53|  240|          Left| [26.0,89.0]|\n",
            "+------+---+-------+---------+-------------------+------+-----+--------------+------------+\n",
            "only showing top 20 rows\n",
            "\n"
          ]
        }
      ]
    },
    {
      "cell_type": "code",
      "source": [
        "data_final = output.select(['Ind features', 'Wages'])"
      ],
      "metadata": {
        "id": "CoL6LOE82ZwL"
      },
      "execution_count": 45,
      "outputs": []
    },
    {
      "cell_type": "code",
      "source": [
        "from pyspark.ml.regression import LinearRegression"
      ],
      "metadata": {
        "id": "wTm2NoCg26FJ"
      },
      "execution_count": 37,
      "outputs": []
    },
    {
      "cell_type": "code",
      "source": [
        "trainData, testData = data_final.randomSplit([0.75,0.25])\n",
        "regressor = LinearRegression(featuresCol='Ind features', labelCol='Wages')\n",
        "\n",
        "regressor = regressor.fit(trainData)"
      ],
      "metadata": {
        "id": "24z6iYBx3ClV"
      },
      "execution_count": 46,
      "outputs": []
    },
    {
      "cell_type": "code",
      "source": [
        "pred = regressor.evaluate(testData)"
      ],
      "metadata": {
        "id": "IELOAEAa3s4z"
      },
      "execution_count": 47,
      "outputs": []
    },
    {
      "cell_type": "code",
      "source": [
        "pred.predictions.show()"
      ],
      "metadata": {
        "colab": {
          "base_uri": "https://localhost:8080/"
        },
        "id": "UyFKwwlo5dZb",
        "outputId": "2c156bd5-bb71-45f7-b764-42542d30ab1e"
      },
      "execution_count": 48,
      "outputs": [
        {
          "output_type": "stream",
          "name": "stderr",
          "text": [
            "/usr/local/lib/python3.7/dist-packages/pyspark/sql/context.py:127: FutureWarning: Deprecated in 3.0.0. Use SparkSession.builder.getOrCreate() instead.\n",
            "  FutureWarning\n"
          ]
        },
        {
          "output_type": "stream",
          "name": "stdout",
          "text": [
            "+------------+-----+------------------+\n",
            "|Ind features|Wages|        prediction|\n",
            "+------------+-----+------------------+\n",
            "| [16.0,63.0]|    1| 9.436281083678566|\n",
            "| [16.0,63.0]|    1| 9.436281083678566|\n",
            "| [17.0,63.0]|    1| 8.747748912615506|\n",
            "| [17.0,63.0]|    2| 8.747748912615506|\n",
            "| [17.0,63.0]|    5| 8.747748912615506|\n",
            "| [17.0,64.0]|    1|10.736758407528072|\n",
            "| [17.0,65.0]|    2|12.725767902440623|\n",
            "| [17.0,65.0]|    8|12.725767902440623|\n",
            "| [17.0,67.0]|   11|16.703786892265754|\n",
            "| [17.0,68.0]|    2| 18.69279638717832|\n",
            "| [17.0,70.0]|   25| 22.67081537700345|\n",
            "| [18.0,62.0]|    1| 6.070207246639882|\n",
            "| [18.0,62.0]|    1| 6.070207246639882|\n",
            "| [18.0,63.0]|    2| 8.059216741552447|\n",
            "| [18.0,63.0]|    2| 8.059216741552447|\n",
            "| [18.0,63.0]|    3| 8.059216741552447|\n",
            "| [18.0,63.0]|    4| 8.059216741552447|\n",
            "| [18.0,63.0]|    4| 8.059216741552447|\n",
            "| [18.0,64.0]|    1|10.048226236465013|\n",
            "| [18.0,64.0]|    2|10.048226236465013|\n",
            "+------------+-----+------------------+\n",
            "only showing top 20 rows\n",
            "\n"
          ]
        }
      ]
    },
    {
      "cell_type": "code",
      "source": [
        "pred.meanAbsoluteError, pred.meanSquaredError"
      ],
      "metadata": {
        "colab": {
          "base_uri": "https://localhost:8080/"
        },
        "id": "D3csXoGP5kbt",
        "outputId": "97082048-272d-4443-b5d0-e734d7219b83"
      },
      "execution_count": 49,
      "outputs": [
        {
          "output_type": "execute_result",
          "data": {
            "text/plain": [
              "(9.282655966179943, 385.5703827283202)"
            ]
          },
          "metadata": {},
          "execution_count": 49
        }
      ]
    },
    {
      "cell_type": "code",
      "source": [
        ""
      ],
      "metadata": {
        "id": "Z3zLWc2z8G-T"
      },
      "execution_count": null,
      "outputs": []
    }
  ]
}